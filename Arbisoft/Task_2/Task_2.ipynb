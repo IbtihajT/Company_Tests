{
 "cells": [
  {
   "cell_type": "markdown",
   "metadata": {},
   "source": [
    "# Section 1: Image Generation"
   ]
  },
  {
   "cell_type": "markdown",
   "metadata": {},
   "source": [
    "This section consists of processing the raw data and store the data locally in image format. This markdown block consists of all the steps and the justification beind the steps.\n",
    "\n",
    "1. <strong>Random Seed</strong>\n",
    "\n",
    "  We first import the Numpy module and the we set a random seed for the reproducibility of the results.\n",
    "\n",
    "2. <strong>Load the json file</strong>\n",
    "\n",
    "  For loading the Json file, We're using python's built-in `json` moudle. We Specify the path to the json and then we use the `open` function to load the file. We read the data in a variable `raw_data` using the json's `load` method. Now the `raw_data` is of type `list` containing `dictionaries`.\n",
    "\n",
    "\n",
    "3. <strong>Process the Dictionaries inside the `raw_data`</strong>\n",
    "\n",
    "  For every dictionary object in the list, we extract some basic information like\n",
    "  - label\n",
    "  - color_mode\n",
    "  \n",
    "  After that we do 2 types of processing to the images, i.e if the `color_mode` is `gray` or if the `color_mode` is `R` (which corresponds to an RGB image).\n",
    "  \n",
    "  - In case of gray images, we first get the pixel values, Then we cast them to a numpy array, Then we calculate the reshapping index using the sqrt(len(pixel_array)). This will give us the number which can be utilized to reshape the image to a perfect square. For example sqrt(784) gives us 28 which tells us that the array can be reshaped to (28 x 28). We reshape the image and then we append it with the corresponding label to a list `data_in_list` in form of tuple. i.e (label, image) will be appended to the list.\n",
    "  \n",
    "  - In case of RGB images, we first get the pixel list for each 'R', 'G', 'B' channels, we then calculate the reshaping index for each channel individually using the same square_root methodology mentioned above and then reshape each channel. After that we use the Numpy's `dstack` method to merge the 3 channels in the format of BGR. Why BGR? Because by convention OpenCV loads the image in the format of BGR, whereas PIL loads the image in the format of RGB. I'm using OpenCV so i stacked them in the format of BGR just to stick with the convention. Then we again append the prcessed image in the list as mentioned above.\n",
    "  \n",
    "  - Now we have a list of tuples containing the label and the image. We first shuffle the list using the `shuffle` method belonging to `randome` module of python.\n",
    "  \n",
    "  - The next step is to create some directories. I'm storing the data in the format of keras's `ImageDataGenerator` which is discussed in detail in the next section. The directory structure becomes like\n",
    "  ```\n",
    "  data/images/\n",
    "    ├── test\n",
    "    └── train\n",
    "  ```  \n",
    "  \n",
    "  - Next we use the sklearn's `train_test_spilt` method which takes in the `data_in_list` and spits out 2 list named `train`, `test`. The `test_split` is 10% of the total data and the `random_state` is set as well for the reproduction of the split. Note that the data in `train` and `test` is the same as (label, image).\n",
    "  \n",
    "  - Now once we have our train and test lists, we can utilize them to save our data locally. We are using 2 loops (one for train and one for test) with the same logic. First we have a counter variable which we will use to name the imagew. Now for every label and image, we first check for if there is a directory named as label under the train directory. If there isn't one, we simply create one named the corresponding label. I'm using f-string literal for string formating. Once the directory is created, we simply save that image in the corresponding label directory using same f-string literal approach. At the end we increment the counter by 1. The following step generated a directory structure as follows\n",
    "  \n",
    "  `$tree -d ./data/images` report\n",
    "   ```\n",
    "   data/images/\n",
    "    ├── test\n",
    "    │   ├── Ankle boot\n",
    "    │   ├── automobile\n",
    "    │   ├── Bag\n",
    "    │   ├── bird\n",
    "    │   ├── Sandal\n",
    "    │   └── truck\n",
    "    └── train\n",
    "        ├── Ankle boot\n",
    "        ├── automobile\n",
    "        ├── Bag\n",
    "        ├── bird\n",
    "        ├── Sandal\n",
    "        └── truck\n",
    "   ```\n",
    "   \n",
    "   All the images are present in the corresponding directories. `-d` flag only reports directories and to be honest complete output of the tree will not fit the cell. Trust me on this one, The data is present in the directories :)\n",
    "   \n",
    "4) <strong>Class Weights Balancing</strong>\n",
    "    \n",
    "  Additionaly we will do one more step which is to calculate the class weights. Why are we calculating the class weights? The problem that i was facing was that the model wasn't able to classify some of the classes properly. When i analysed the problem, i found out that some of the classes like `automobile` contained only 443 samples in training set. So the data was heviely imbalanced. My solution to this problem was to calculate the `class_weights`. Model during its training time will be more bias to these classes and the problem of misclassifying the class will resolve."
   ]
  },
  {
   "cell_type": "code",
   "execution_count": 3,
   "metadata": {
    "ExecuteTime": {
     "end_time": "2020-02-06T11:38:17.086126Z",
     "start_time": "2020-02-06T11:38:17.079894Z"
    }
   },
   "outputs": [],
   "source": [
    "import numpy as np\n",
    "np.random.seed(42)"
   ]
  },
  {
   "cell_type": "code",
   "execution_count": 2,
   "metadata": {
    "ExecuteTime": {
     "end_time": "2020-02-06T11:38:15.716885Z",
     "start_time": "2020-02-06T11:38:15.061392Z"
    }
   },
   "outputs": [],
   "source": [
    "# Import some required Libraries\n",
    "from os import makedirs, listdir\n",
    "from json import load\n",
    "from cv2 import imwrite\n",
    "from math import sqrt\n",
    "from sklearn.model_selection import train_test_split\n",
    "import random\n",
    "from pprint import pprint"
   ]
  },
  {
   "cell_type": "code",
   "execution_count": 3,
   "metadata": {
    "ExecuteTime": {
     "end_time": "2020-02-02T12:17:42.603456Z",
     "start_time": "2020-02-02T12:17:37.213878Z"
    }
   },
   "outputs": [],
   "source": [
    "# Path to json file\n",
    "path = \"./data/gen_img_data.json\"\n",
    "\n",
    "# Load the json data\n",
    "with open(path) as json_file:\n",
    "    raw_data = load(json_file)"
   ]
  },
  {
   "cell_type": "code",
   "execution_count": 4,
   "metadata": {
    "ExecuteTime": {
     "end_time": "2020-02-02T12:17:47.377927Z",
     "start_time": "2020-02-02T12:17:42.608945Z"
    }
   },
   "outputs": [],
   "source": [
    "data_in_list = list()\n",
    "\n",
    "# For every dictionary in `raw_data`\n",
    "for obj in raw_data:\n",
    "\n",
    "    # Get the Label of the Image\n",
    "    label = list(obj)[0]\n",
    "    # Get the Color_Mode of the image\n",
    "    color_mode = list(obj[label])[0]\n",
    "\n",
    "    # Case 1: If the image is gray\n",
    "    if color_mode == 'grey':\n",
    "\n",
    "        # Get the pixel List casted to numpy array\n",
    "        pixels = np.array(obj[label][color_mode])\n",
    "\n",
    "        # Reshape the 1D Array to a 2D array to form an image\n",
    "        reshape_index = int(sqrt(pixels.shape[0]))\n",
    "        image = np.reshape(pixels, (reshape_index, reshape_index))\n",
    "\n",
    "    # Case 2: If the image is Colored\n",
    "    elif color_mode == 'R':\n",
    "\n",
    "        # Get Red Channel, cast to numpy array and Reshape 1D -> 2D\n",
    "        r_pixels = np.array(obj[label]['R'])\n",
    "        reshape_index = int(sqrt(r_pixels.shape[0]))\n",
    "        r_pixels = np.reshape(r_pixels, (reshape_index, reshape_index))\n",
    "\n",
    "        # Get Green Channel, cast to numpy array and Reshape 1D -> 2D\n",
    "        g_pixels = np.array(obj[label]['G'])\n",
    "        reshape_index = int(sqrt(g_pixels.shape[0]))\n",
    "        g_pixels = np.reshape(g_pixels, (reshape_index, reshape_index))\n",
    "\n",
    "        # Get Blue Channel, cast to numpy array and Reshape 1D -> 2D\n",
    "        b_pixels = np.array(obj[label]['B'])\n",
    "        reshape_index = int(sqrt(b_pixels.shape[0]))\n",
    "        b_pixels = np.reshape(b_pixels, (reshape_index, reshape_index))\n",
    "\n",
    "        # Combine the 3 channels\n",
    "        image = np.dstack((b_pixels, g_pixels, r_pixels))\n",
    "\n",
    "    # Append the label and image in the list\n",
    "    data_in_list.append((label, image))"
   ]
  },
  {
   "cell_type": "code",
   "execution_count": 5,
   "metadata": {
    "ExecuteTime": {
     "end_time": "2020-02-02T12:17:47.402714Z",
     "start_time": "2020-02-02T12:17:47.379724Z"
    }
   },
   "outputs": [
    {
     "name": "stdout",
     "output_type": "stream",
     "text": [
      "Total Class Counts:\n",
      "\n",
      "{'Ankle boot': 6000,\n",
      " 'Bag': 6000,\n",
      " 'Sandal': 1201,\n",
      " 'automobile': 501,\n",
      " 'bird': 5000,\n",
      " 'truck': 5000}\n"
     ]
    }
   ],
   "source": [
    "# Some statistics\n",
    "\n",
    "# We use `list comprehension` to get the labels from the `data_in_list` and we use\n",
    "# numpy's `unique` method to calculate the count of the class\n",
    "total_class_count = np.unique(\n",
    "    [data_point[0] for data_point in data_in_list], return_counts=True)\n",
    "print(\"Total Class Counts:\\n\")\n",
    "pprint(dict(zip(total_class_count[0], total_class_count[1])))"
   ]
  },
  {
   "cell_type": "code",
   "execution_count": 6,
   "metadata": {
    "ExecuteTime": {
     "end_time": "2020-02-02T12:17:47.442327Z",
     "start_time": "2020-02-02T12:17:47.408027Z"
    }
   },
   "outputs": [],
   "source": [
    "# Shuffle the data list using the seed for reproduction of the results\n",
    "random.Random(42).shuffle(data_in_list)"
   ]
  },
  {
   "cell_type": "code",
   "execution_count": 7,
   "metadata": {
    "ExecuteTime": {
     "end_time": "2020-02-02T12:17:47.448161Z",
     "start_time": "2020-02-02T12:17:47.444615Z"
    }
   },
   "outputs": [],
   "source": [
    "# Make \"images\", \"train\", \"test\" directories\n",
    "try:\n",
    "    makedirs(\"./data/images\")\n",
    "    makedirs(\"./data/images/train\")\n",
    "    makedirs(\"./data/images/test\")\n",
    "except:\n",
    "    pass"
   ]
  },
  {
   "cell_type": "code",
   "execution_count": 8,
   "metadata": {
    "ExecuteTime": {
     "end_time": "2020-02-02T12:17:47.467046Z",
     "start_time": "2020-02-02T12:17:47.449981Z"
    }
   },
   "outputs": [],
   "source": [
    "# Make a train_test split of the data with test_size of 10%. We also set a random state to reproduce the split\n",
    "train, test = train_test_split(data_in_list, test_size=0.1, random_state=42)"
   ]
  },
  {
   "cell_type": "code",
   "execution_count": 9,
   "metadata": {
    "ExecuteTime": {
     "end_time": "2020-02-02T12:17:47.494534Z",
     "start_time": "2020-02-02T12:17:47.470040Z"
    }
   },
   "outputs": [
    {
     "name": "stdout",
     "output_type": "stream",
     "text": [
      "Train Counts:\n",
      "\n",
      "{'Ankle boot': 5424,\n",
      " 'Bag': 5408,\n",
      " 'Sandal': 1065,\n",
      " 'automobile': 444,\n",
      " 'bird': 4494,\n",
      " 'truck': 4496}\n",
      "\n",
      "\n",
      "Test Counts:\n",
      "\n",
      "{'Ankle boot': 576,\n",
      " 'Bag': 592,\n",
      " 'Sandal': 136,\n",
      " 'automobile': 57,\n",
      " 'bird': 506,\n",
      " 'truck': 504}\n"
     ]
    }
   ],
   "source": [
    "# Check train, test statistics\n",
    "train_class_count = np.unique([data_point[0]\n",
    "                               for data_point in train], return_counts=True)\n",
    "test_class_count = np.unique([data_point[0]\n",
    "                              for data_point in test], return_counts=True)\n",
    "\n",
    "print(\"Train Counts:\\n\")\n",
    "pprint(dict(zip(train_class_count[0], train_class_count[1])))\n",
    "\n",
    "print(\"\\n\\nTest Counts:\\n\")\n",
    "pprint(dict(zip(test_class_count[0], test_class_count[1])))"
   ]
  },
  {
   "cell_type": "code",
   "execution_count": 10,
   "metadata": {
    "ExecuteTime": {
     "end_time": "2020-02-02T12:17:49.298508Z",
     "start_time": "2020-02-02T12:17:47.497351Z"
    }
   },
   "outputs": [],
   "source": [
    "# Save the train files locally based on the label\n",
    "\n",
    "# Counter is used for naming of the image files\n",
    "counter = 1\n",
    "\n",
    "# For every label and image in the train set\n",
    "for label, image in train:\n",
    "\n",
    "    # Check if the label directory exists under the train directory\n",
    "    try:\n",
    "        # Make the label directory under train\n",
    "        makedirs(f\"./data/images/train/{label}\")\n",
    "    except:\n",
    "        pass\n",
    "\n",
    "    # Write the image under the label directory\n",
    "    imwrite(f\"./data/images/train/{label}/{counter}.jpg\", image)\n",
    "    counter += 1"
   ]
  },
  {
   "cell_type": "code",
   "execution_count": 11,
   "metadata": {
    "ExecuteTime": {
     "end_time": "2020-02-02T12:17:49.523536Z",
     "start_time": "2020-02-02T12:17:49.300613Z"
    }
   },
   "outputs": [],
   "source": [
    "# Save the test files locally based on the label\n",
    "\n",
    "# Counter is used for naming of the image files\n",
    "counter = 1\n",
    "\n",
    "# For every label and image in test set\n",
    "for label, image in test:\n",
    "\n",
    "    # Check if the label directory exists under the test directory\n",
    "    try:\n",
    "        # Make the label directory under test\n",
    "        makedirs(f\"./data/images/test/{label}\")\n",
    "    except:\n",
    "        pass\n",
    "\n",
    "    # Write the image under the label directory\n",
    "    imwrite(f\"./data/images/test/{label}/{counter}.jpg\", image)\n",
    "    counter += 1"
   ]
  },
  {
   "cell_type": "code",
   "execution_count": 12,
   "metadata": {
    "ExecuteTime": {
     "end_time": "2020-02-02T12:17:49.554010Z",
     "start_time": "2020-02-02T12:17:49.526060Z"
    }
   },
   "outputs": [],
   "source": [
    "# Class balancing\n",
    "from sklearn.utils.class_weight import compute_class_weight\n",
    "\n",
    "# Get the unique classes\n",
    "classes = np.array(listdir(\"./data/images/train/\"))\n",
    "\n",
    "# Calculate the class_weights\n",
    "weights = compute_class_weight('balanced', classes, np.array(\n",
    "    [data_point[0] for data_point in train]))"
   ]
  },
  {
   "cell_type": "code",
   "execution_count": 13,
   "metadata": {
    "ExecuteTime": {
     "end_time": "2020-02-02T12:17:49.569864Z",
     "start_time": "2020-02-02T12:17:49.555617Z"
    }
   },
   "outputs": [
    {
     "name": "stdout",
     "output_type": "stream",
     "text": [
      "{'Ankle boot': 0.655451081612586,\n",
      " 'Bag': 0.6573902859960552,\n",
      " 'Sandal': 3.3381846635367762,\n",
      " 'automobile': 8.007132132132131,\n",
      " 'bird': 0.7910918261385551,\n",
      " 'truck': 0.7907399169632265}\n"
     ]
    }
   ],
   "source": [
    "# Check the calculated weights and cast them to a dictionary for now\n",
    "weights = dict(zip(classes, weights))\n",
    "pprint(weights)"
   ]
  },
  {
   "cell_type": "markdown",
   "metadata": {},
   "source": [
    "So we have the weights calculated based on the number of samples per class in the train set. The summary is as follows\n",
    "\n",
    "| Class      | Training Samples | Calculated weights |\n",
    "|------------|------------------|--------------------|\n",
    "| Ankle boot |       5424       |        0.66        |\n",
    "| Bag        |       5408       |        0.66        |\n",
    "| Sandal     |       1065       |        3.34        |\n",
    "| automobile |        444       |        8.01        |\n",
    "| bird       |       4494       |        0.79        |\n",
    "| truck      |       4496       |        0.79        |\n",
    "\n",
    "We can clearly see that the automobile class is assigned with the heaviest weight amont all others because of the less number of data points."
   ]
  },
  {
   "cell_type": "markdown",
   "metadata": {},
   "source": [
    "# Section 2: Image Augmentation and Preprocessing"
   ]
  },
  {
   "cell_type": "markdown",
   "metadata": {},
   "source": [
    "In this section, i'm going to use the keras's `ImageDataGenerator` module. I'm using this module for multiple reasons as it will help me in the following\n",
    "\n",
    "  - Efficient on the memory as the images will be loaded to the RAM in batches.\n",
    "  - Easy to use augmentation as it includes functions like \n",
    "      - Rescaling\n",
    "      - Horizontal and Vertical Flip\n",
    "      - Random Rotation\n",
    "  - Train/Validation Split\n",
    "  \n",
    "1. <strong>Get the file path and get the classes</strong>\n",
    "   \n",
    "   We first specify the train directory path and the test directory path. Then we use one of the directories to capture the unqie classes using os module's `listdir` which will be used later. \n",
    "   \n",
    "   \n",
    "2. <strong>Create a train_datagen object</strong>\n",
    "   \n",
    "   I'm creating an ImageDataGenerator, `train_datagen` object where i specify the object to\n",
    "     - Rescale the images\n",
    "     - Apply Horizontal flip Augmentation\n",
    "     - Apply Vertical Flip Augmentation\n",
    "     - Apply Random Rotation Augmentation with thresh of 0.2\n",
    "     - Validation Split of 25%\n",
    "   \n",
    "   Note that i'm only using augmentation techniques that make sense. For example it doesn't make any sense to apply Vertical Flip to MNIST Dataset.\n",
    "   \n",
    "   Using the above created `ImageDataGenerator` object, i use the `flow_from_directory` method in which i specify the \n",
    "   \n",
    "   - Path to the data\n",
    "   - <strong>target_size</strong> I have 2 target size as of (28, 28) and (32, 32) so i have used an average target size of (30, 30). I have not used anyother size as using a large size will blur the images and using a very small size will effect the training as well.\n",
    "   - <strong>batch_size</strong> I'm using a batch size of 32 for training and 16 for validation as i have a low_end GPU (GeForce 940M)\n",
    "   - <strong>class_mode</strong> is set to `categorical`\n",
    "   - <strong>classes</strong> is set to the `classes` variable containing the classes.\n",
    "   - <strong>subset</strong> is set to `training` in case of the `train_generator` and `validation` in case of the `validation_generator`.\n",
    "   - <strong>color_mode</strong> is set to `grayscale` as i will be training the model on grayscale images.\n",
    "   \n",
    "   Note that there is a difference between train, validation and test. `Validation` data is a subset of the `train` data and we use it for the validation of the model's performance where as `Test` data is used for model's evaluation.\n",
    "   \n",
    "   \n",
    "   <div style=\"text-align:center\"><img src=\"https://miro.medium.com/max/776/1*Nv2NNALuokZEcV6hYEHdGA.png\" width=\"50%\" height=\"25%\" /></div>\n",
    "   \n",
    "   Finally we create a seperate generator for test set in which we only rescale the image. This Generator will be used later on in the evaluation section."
   ]
  },
  {
   "cell_type": "code",
   "execution_count": 14,
   "metadata": {
    "ExecuteTime": {
     "end_time": "2020-02-02T12:18:49.319034Z",
     "start_time": "2020-02-02T12:18:47.299606Z"
    }
   },
   "outputs": [],
   "source": [
    "# Import required Libraries\n",
    "from tensorflow.keras.preprocessing.image import ImageDataGenerator"
   ]
  },
  {
   "cell_type": "code",
   "execution_count": 15,
   "metadata": {
    "ExecuteTime": {
     "end_time": "2020-02-02T12:18:49.383410Z",
     "start_time": "2020-02-02T12:18:49.380115Z"
    }
   },
   "outputs": [],
   "source": [
    "train_path = \"./data/images/train/\"\n",
    "test_path = \"./data/images/test/\""
   ]
  },
  {
   "cell_type": "code",
   "execution_count": 16,
   "metadata": {
    "ExecuteTime": {
     "end_time": "2020-02-02T12:18:51.500262Z",
     "start_time": "2020-02-02T12:18:51.481428Z"
    }
   },
   "outputs": [],
   "source": [
    "# Create ImageDataGenerator Object\n",
    "\n",
    "train_datagen = ImageDataGenerator(\n",
    "    rescale=1./255,  # To rescale between (0, 1)\n",
    "    horizontal_flip=True,  # Will apply horizontal augmentation\n",
    "    vertical_flip=True,  # Will apply  vertical augmentation\n",
    "    rotation_range=0.2,  # Will apply rotation augmentation\n",
    "    validation_split=0.25  # Will make a Validation Split\n",
    ")"
   ]
  },
  {
   "cell_type": "code",
   "execution_count": 17,
   "metadata": {
    "ExecuteTime": {
     "end_time": "2020-02-02T12:18:56.141865Z",
     "start_time": "2020-02-02T12:18:55.263025Z"
    }
   },
   "outputs": [
    {
     "name": "stdout",
     "output_type": "stream",
     "text": [
      "Found 15999 images belonging to 6 classes.\n"
     ]
    }
   ],
   "source": [
    "# Create train_generator\n",
    "\n",
    "train_generator = train_datagen.flow_from_directory(\n",
    "    train_path,  # Path to data\n",
    "    target_size=(30, 30),  # Average target size (32 + 28)/2 = 30\n",
    "    batch_size=32,  # Batch size\n",
    "    class_mode='categorical',  # Categorical Class mode\n",
    "    classes=list(classes),  # Classes\n",
    "    subset='training',  # Training Subset\n",
    "    color_mode='grayscale',\n",
    "    seed=42\n",
    ")"
   ]
  },
  {
   "cell_type": "code",
   "execution_count": 18,
   "metadata": {
    "ExecuteTime": {
     "end_time": "2020-02-02T12:19:02.513392Z",
     "start_time": "2020-02-02T12:19:01.961793Z"
    }
   },
   "outputs": [
    {
     "name": "stdout",
     "output_type": "stream",
     "text": [
      "Found 5332 images belonging to 6 classes.\n"
     ]
    }
   ],
   "source": [
    "# Create validation_generator\n",
    "\n",
    "validation_generator = train_datagen.flow_from_directory(\n",
    "    train_path,  # Path to data\n",
    "    target_size=(30, 30),  # Average target size\n",
    "    batch_size=16,  # Batch Size\n",
    "    class_mode='categorical',  # Categorical Class mode\n",
    "    classes=list(classes),  # Classes\n",
    "    subset='validation',  # Validation Subset\n",
    "    color_mode='grayscale',\n",
    "    seed=42\n",
    ")"
   ]
  },
  {
   "cell_type": "code",
   "execution_count": 19,
   "metadata": {
    "ExecuteTime": {
     "end_time": "2020-02-02T12:19:15.741761Z",
     "start_time": "2020-02-02T12:19:15.501336Z"
    }
   },
   "outputs": [
    {
     "name": "stdout",
     "output_type": "stream",
     "text": [
      "Found 2371 images belonging to 6 classes.\n"
     ]
    }
   ],
   "source": [
    "test_generator = ImageDataGenerator(rescale=1./255).flow_from_directory(\n",
    "    test_path,  # Path to data\n",
    "    target_size=(30, 30),  # Average target size (32 + 28)/2 = 30\n",
    "    batch_size=8,  # Batch size\n",
    "    class_mode='categorical',  # Categorical Class mode\n",
    "    classes=list(classes),  # Classes\n",
    "    color_mode='grayscale'\n",
    ")"
   ]
  },
  {
   "cell_type": "code",
   "execution_count": 20,
   "metadata": {
    "ExecuteTime": {
     "end_time": "2020-02-02T12:19:25.112279Z",
     "start_time": "2020-02-02T12:19:25.091249Z"
    }
   },
   "outputs": [
    {
     "data": {
      "text/plain": [
       "True"
      ]
     },
     "execution_count": 20,
     "metadata": {},
     "output_type": "execute_result"
    }
   ],
   "source": [
    "# See if the class indices are equal for every split\n",
    "train_generator.class_indices == validation_generator.class_indices == test_generator.class_indices"
   ]
  },
  {
   "cell_type": "code",
   "execution_count": 21,
   "metadata": {
    "ExecuteTime": {
     "end_time": "2020-02-02T12:19:35.173261Z",
     "start_time": "2020-02-02T12:19:35.169220Z"
    }
   },
   "outputs": [],
   "source": [
    "# Get the class indice with the corresponding weight value\n",
    "# We will use dictionary for this purpose to get the class indices w.r.t class_weight\n",
    "class_weights = {train_generator.class_indices[key]: weights[key]\n",
    "                 for key in train_generator.class_indices.keys()}"
   ]
  },
  {
   "cell_type": "code",
   "execution_count": 22,
   "metadata": {
    "ExecuteTime": {
     "end_time": "2020-02-02T12:19:39.588129Z",
     "start_time": "2020-02-02T12:19:39.578913Z"
    }
   },
   "outputs": [
    {
     "data": {
      "text/plain": [
       "{0: 0.6573902859960552,\n",
       " 1: 3.3381846635367762,\n",
       " 2: 8.007132132132131,\n",
       " 3: 0.7910918261385551,\n",
       " 4: 0.7907399169632265,\n",
       " 5: 0.655451081612586}"
      ]
     },
     "execution_count": 22,
     "metadata": {},
     "output_type": "execute_result"
    }
   ],
   "source": [
    "# Class weights with class indices\n",
    "class_weights"
   ]
  },
  {
   "cell_type": "markdown",
   "metadata": {},
   "source": [
    "# Section 3: Training Phase"
   ]
  },
  {
   "cell_type": "markdown",
   "metadata": {},
   "source": [
    "In this section we are going to build a model and train is using the data we processed above.\n",
    "\n",
    "1. We build a custome `Squential` model which consists of 3 Convolutional blocks for feature extraction.\n",
    "\n",
    "  - The First Convolutional block contains a `Conv2D` layer with 128 kernels of size (3 x 3). We use `relu` as the activation function. After that we apply `MaxPooling2D` layer with size (2 x 2) to reduce the image size which can help prevent the `Curse Of Dimentionality`.\n",
    "  \n",
    "  - The Second Convolutional block contains a `Conv2D` layer with 64 kernels of size (3 x 3). We use `relu` as the activation function. After that we apply `MaxPooling2D` layer with size (2 x 2) for the same reason.\n",
    "  \n",
    "  - The third Convolutional block contains a `Conv2D` layer with 32 kernels of size (3 x 3). We use `relu` as the activation function. After that we apply `MaxPooling2D` layer with size (2 x 2).\n",
    "  \n",
    "  - We then use the `Flatten` layer to convert to 1D Vector.\n",
    "  \n",
    "  - We have a `Dense` layer with 128 neurons with an activation of `relu`\n",
    "  \n",
    "  - We then use a `Dropout` layer for regularization.\n",
    "  \n",
    "  - We then have a Classification `Dense` Layer of 6 neurons (Number of classes) with an activation of `softmax` which will return the probability vector containing probabilities of each class.\n",
    "  \n",
    "  - We then compile the model with `loss=categorical_crossentropy` and `optimizer=adam`.\n",
    "  \n",
    "  - We are also generating the `callbacks` list for the purpose of saving the best weights.\n",
    "  \n",
    "  - We check for if there is a `checkpoints` directory. If there is no directory, we create one and we save the models in that directory in `hdf5` format.\n",
    "  \n",
    "2. We are going to use the `fit_generator` method as we have the data in the format of `ImageDataGenerator`.\n",
    "\n",
    "  - We save the history as the model is being trained. \n",
    "  \n",
    "  - `steps_per_epoch` is set to `train_data.n // train_data.batch_size`. This is a formal way to chose a step size. We chose the ratio of total number of samples and the size of the batch size.\n",
    "  \n",
    "  - `validation_steps` follows the same strategy of `validation_generator.n // validation_generator.batch_size`.\n",
    "  \n",
    "  - We then used the `history` to plot the `training_accuracy` against `validation_accuracy` and `training_loss` against `validation_loss` to see if the model is overfitting or not."
   ]
  },
  {
   "cell_type": "code",
   "execution_count": 4,
   "metadata": {
    "ExecuteTime": {
     "end_time": "2020-02-06T11:38:31.875514Z",
     "start_time": "2020-02-06T11:38:30.259090Z"
    }
   },
   "outputs": [],
   "source": [
    "# Import required libararies\n",
    "\n",
    "from tensorflow.keras.models import Sequential\n",
    "from tensorflow.keras.layers import Conv2D, MaxPooling2D\n",
    "from tensorflow.keras.layers import Activation, Dropout, Flatten, Dense\n",
    "from tensorflow.keras.callbacks import ModelCheckpoint, EarlyStopping"
   ]
  },
  {
   "cell_type": "code",
   "execution_count": 24,
   "metadata": {
    "ExecuteTime": {
     "end_time": "2020-02-02T12:21:07.736188Z",
     "start_time": "2020-02-02T12:21:07.721363Z"
    }
   },
   "outputs": [],
   "source": [
    "# Define a custom model\n",
    "\n",
    "\n",
    "def my_model(input_shape, num_classes):\n",
    "\n",
    "    # We will use Sequential Model\n",
    "    model = Sequential()\n",
    "\n",
    "    # First Convolutional Block\n",
    "    model.add(Conv2D(128, (3, 3), input_shape=input_shape))\n",
    "    model.add(Activation('relu'))\n",
    "    model.add(MaxPooling2D(pool_size=(2, 2)))\n",
    "\n",
    "    # Second Convolutional Block\n",
    "    model.add(Conv2D(64, (3, 3)))\n",
    "    model.add(Activation('relu'))\n",
    "    model.add(MaxPooling2D(pool_size=(2, 2)))\n",
    "\n",
    "    # Third Convolutional Block\n",
    "    model.add(Conv2D(32, (3, 3)))\n",
    "    model.add(Activation('relu'))\n",
    "    model.add(MaxPooling2D(pool_size=(2, 2)))\n",
    "\n",
    "    # Classification Block\n",
    "    model.add(Flatten())\n",
    "    model.add(Dense(256))\n",
    "    model.add(Activation('relu'))\n",
    "    model.add(Dense(512))\n",
    "    model.add(Activation('relu'))\n",
    "    model.add(Dense(1024))\n",
    "    model.add(Activation('relu'))\n",
    "    # Add regularization\n",
    "    model.add(Dropout(0.5))\n",
    "    model.add(Dense(num_classes))\n",
    "    model.add(Activation('softmax'))\n",
    "\n",
    "    # Compile the model\n",
    "    model.compile(loss='categorical_crossentropy',\n",
    "                  optimizer='adam',\n",
    "                  metrics=['accuracy'])\n",
    "\n",
    "    # Create checkpoints directories\n",
    "    try:\n",
    "        # If directory not found\n",
    "        makedirs(f\"./checkpoints\")\n",
    "    except Exception as e:\n",
    "        # If directory already exists\n",
    "        pass\n",
    "\n",
    "    # Define Model checkpoints and callbacks_list\n",
    "    filepath = \"./checkpoints/weights-improvement-{epoch:02d}-{val_accuracy:.2f}.hdf5\"\n",
    "    checkpoint = ModelCheckpoint(\n",
    "        filepath, monitor='val_accuracy', verbose=1, save_best_only=True, mode='max')\n",
    "    callbacks_list = [EarlyStopping(\n",
    "        monitor='val_accuracy', patience=5), checkpoint]\n",
    "\n",
    "    return model, callbacks_list"
   ]
  },
  {
   "cell_type": "code",
   "execution_count": 28,
   "metadata": {
    "ExecuteTime": {
     "end_time": "2020-02-02T12:30:56.722641Z",
     "start_time": "2020-02-02T12:30:56.473773Z"
    }
   },
   "outputs": [],
   "source": [
    "# Get the model and callbacks_list\n",
    "model, callbacks_list = my_model(train_generator.image_shape, len(classes))"
   ]
  },
  {
   "cell_type": "code",
   "execution_count": 26,
   "metadata": {
    "ExecuteTime": {
     "end_time": "2020-02-02T12:21:13.981274Z",
     "start_time": "2020-02-02T12:21:13.953596Z"
    }
   },
   "outputs": [
    {
     "name": "stdout",
     "output_type": "stream",
     "text": [
      "Model: \"sequential\"\n",
      "_________________________________________________________________\n",
      "Layer (type)                 Output Shape              Param #   \n",
      "=================================================================\n",
      "conv2d (Conv2D)              (None, 28, 28, 128)       1280      \n",
      "_________________________________________________________________\n",
      "activation (Activation)      (None, 28, 28, 128)       0         \n",
      "_________________________________________________________________\n",
      "max_pooling2d (MaxPooling2D) (None, 14, 14, 128)       0         \n",
      "_________________________________________________________________\n",
      "conv2d_1 (Conv2D)            (None, 12, 12, 64)        73792     \n",
      "_________________________________________________________________\n",
      "activation_1 (Activation)    (None, 12, 12, 64)        0         \n",
      "_________________________________________________________________\n",
      "max_pooling2d_1 (MaxPooling2 (None, 6, 6, 64)          0         \n",
      "_________________________________________________________________\n",
      "conv2d_2 (Conv2D)            (None, 4, 4, 32)          18464     \n",
      "_________________________________________________________________\n",
      "activation_2 (Activation)    (None, 4, 4, 32)          0         \n",
      "_________________________________________________________________\n",
      "max_pooling2d_2 (MaxPooling2 (None, 2, 2, 32)          0         \n",
      "_________________________________________________________________\n",
      "flatten (Flatten)            (None, 128)               0         \n",
      "_________________________________________________________________\n",
      "dense (Dense)                (None, 256)               33024     \n",
      "_________________________________________________________________\n",
      "activation_3 (Activation)    (None, 256)               0         \n",
      "_________________________________________________________________\n",
      "dense_1 (Dense)              (None, 512)               131584    \n",
      "_________________________________________________________________\n",
      "activation_4 (Activation)    (None, 512)               0         \n",
      "_________________________________________________________________\n",
      "dense_2 (Dense)              (None, 1024)              525312    \n",
      "_________________________________________________________________\n",
      "activation_5 (Activation)    (None, 1024)              0         \n",
      "_________________________________________________________________\n",
      "dropout (Dropout)            (None, 1024)              0         \n",
      "_________________________________________________________________\n",
      "dense_3 (Dense)              (None, 6)                 6150      \n",
      "_________________________________________________________________\n",
      "activation_6 (Activation)    (None, 6)                 0         \n",
      "=================================================================\n",
      "Total params: 789,606\n",
      "Trainable params: 789,606\n",
      "Non-trainable params: 0\n",
      "_________________________________________________________________\n"
     ]
    }
   ],
   "source": [
    "# Check summary of the model\n",
    "model.summary()"
   ]
  },
  {
   "cell_type": "code",
   "execution_count": 29,
   "metadata": {
    "ExecuteTime": {
     "end_time": "2020-02-02T13:17:46.666786Z",
     "start_time": "2020-02-02T12:32:08.751399Z"
    },
    "scrolled": true
   },
   "outputs": [
    {
     "name": "stdout",
     "output_type": "stream",
     "text": [
      "Epoch 1/50\n",
      "498/499 [============================>.] - ETA: 0s - loss: 0.7314 - accuracy: 0.6901\n",
      "Epoch 00001: val_accuracy improved from -inf to 0.85454, saving model to ./checkpoints/weights-improvement-01-0.85.hdf5\n",
      "499/499 [==============================] - 167s 334ms/step - loss: 0.7304 - accuracy: 0.6905 - val_loss: 0.4485 - val_accuracy: 0.8545\n",
      "Epoch 2/50\n",
      "498/499 [============================>.] - ETA: 0s - loss: 0.5130 - accuracy: 0.7848\n",
      "Epoch 00002: val_accuracy improved from 0.85454 to 0.88326, saving model to ./checkpoints/weights-improvement-02-0.88.hdf5\n",
      "499/499 [==============================] - 137s 274ms/step - loss: 0.5125 - accuracy: 0.7851 - val_loss: 0.3455 - val_accuracy: 0.8833\n",
      "Epoch 3/50\n",
      "498/499 [============================>.] - ETA: 0s - loss: 0.4635 - accuracy: 0.8174\n",
      "Epoch 00003: val_accuracy did not improve from 0.88326\n",
      "499/499 [==============================] - 139s 278ms/step - loss: 0.4629 - accuracy: 0.8177 - val_loss: 0.3312 - val_accuracy: 0.8741\n",
      "Epoch 4/50\n",
      "498/499 [============================>.] - ETA: 0s - loss: 0.4309 - accuracy: 0.8358\n",
      "Epoch 00004: val_accuracy improved from 0.88326 to 0.88833, saving model to ./checkpoints/weights-improvement-04-0.89.hdf5\n",
      "499/499 [==============================] - 130s 260ms/step - loss: 0.4306 - accuracy: 0.8360 - val_loss: 0.3147 - val_accuracy: 0.8883\n",
      "Epoch 5/50\n",
      "498/499 [============================>.] - ETA: 0s - loss: 0.4080 - accuracy: 0.8485\n",
      "Epoch 00005: val_accuracy improved from 0.88833 to 0.90240, saving model to ./checkpoints/weights-improvement-05-0.90.hdf5\n",
      "499/499 [==============================] - 131s 262ms/step - loss: 0.4081 - accuracy: 0.8487 - val_loss: 0.2901 - val_accuracy: 0.9024\n",
      "Epoch 6/50\n",
      "498/499 [============================>.] - ETA: 0s - loss: 0.3970 - accuracy: 0.8558\n",
      "Epoch 00006: val_accuracy did not improve from 0.90240\n",
      "499/499 [==============================] - 130s 261ms/step - loss: 0.3972 - accuracy: 0.8559 - val_loss: 0.3618 - val_accuracy: 0.8590\n",
      "Epoch 7/50\n",
      "498/499 [============================>.] - ETA: 0s - loss: 0.3680 - accuracy: 0.8616\n",
      "Epoch 00007: val_accuracy did not improve from 0.90240\n",
      "499/499 [==============================] - 131s 262ms/step - loss: 0.3682 - accuracy: 0.8617 - val_loss: 0.3232 - val_accuracy: 0.8527\n",
      "Epoch 8/50\n",
      "498/499 [============================>.] - ETA: 0s - loss: 0.3496 - accuracy: 0.8674\n",
      "Epoch 00008: val_accuracy did not improve from 0.90240\n",
      "499/499 [==============================] - 130s 261ms/step - loss: 0.3493 - accuracy: 0.8675 - val_loss: 0.2701 - val_accuracy: 0.8958\n",
      "Epoch 9/50\n",
      "498/499 [============================>.] - ETA: 0s - loss: 0.3345 - accuracy: 0.8777\n",
      "Epoch 00009: val_accuracy improved from 0.90240 to 0.90897, saving model to ./checkpoints/weights-improvement-09-0.91.hdf5\n",
      "499/499 [==============================] - 141s 282ms/step - loss: 0.3342 - accuracy: 0.8777 - val_loss: 0.2479 - val_accuracy: 0.9090\n",
      "Epoch 10/50\n",
      "498/499 [============================>.] - ETA: 0s - loss: 0.3295 - accuracy: 0.8815\n",
      "Epoch 00010: val_accuracy improved from 0.90897 to 0.91348, saving model to ./checkpoints/weights-improvement-10-0.91.hdf5\n",
      "499/499 [==============================] - 139s 279ms/step - loss: 0.3290 - accuracy: 0.8818 - val_loss: 0.2263 - val_accuracy: 0.9135\n",
      "Epoch 11/50\n",
      "498/499 [============================>.] - ETA: 0s - loss: 0.3094 - accuracy: 0.8931\n",
      "Epoch 00011: val_accuracy did not improve from 0.91348\n",
      "499/499 [==============================] - 138s 276ms/step - loss: 0.3093 - accuracy: 0.8932 - val_loss: 0.2609 - val_accuracy: 0.8981\n",
      "Epoch 12/50\n",
      "498/499 [============================>.] - ETA: 0s - loss: 0.2954 - accuracy: 0.8949\n",
      "Epoch 00012: val_accuracy did not improve from 0.91348\n",
      "499/499 [==============================] - 140s 280ms/step - loss: 0.2953 - accuracy: 0.8948 - val_loss: 0.2633 - val_accuracy: 0.8943\n",
      "Epoch 13/50\n",
      "498/499 [============================>.] - ETA: 0s - loss: 0.2930 - accuracy: 0.8933\n",
      "Epoch 00013: val_accuracy did not improve from 0.91348\n",
      "499/499 [==============================] - 140s 280ms/step - loss: 0.2935 - accuracy: 0.8930 - val_loss: 0.5565 - val_accuracy: 0.7793\n",
      "Epoch 14/50\n",
      "498/499 [============================>.] - ETA: 0s - loss: 0.2848 - accuracy: 0.8957\n",
      "Epoch 00014: val_accuracy did not improve from 0.91348\n",
      "499/499 [==============================] - 140s 281ms/step - loss: 0.2846 - accuracy: 0.8957 - val_loss: 0.3090 - val_accuracy: 0.9062\n",
      "Epoch 15/50\n",
      "498/499 [============================>.] - ETA: 0s - loss: 0.2759 - accuracy: 0.9078\n",
      "Epoch 00015: val_accuracy improved from 0.91348 to 0.92812, saving model to ./checkpoints/weights-improvement-15-0.93.hdf5\n",
      "499/499 [==============================] - 139s 279ms/step - loss: 0.2755 - accuracy: 0.9079 - val_loss: 0.2050 - val_accuracy: 0.9281\n",
      "Epoch 16/50\n",
      "498/499 [============================>.] - ETA: 0s - loss: 0.2783 - accuracy: 0.8970\n",
      "Epoch 00016: val_accuracy did not improve from 0.92812\n",
      "499/499 [==============================] - 140s 280ms/step - loss: 0.2784 - accuracy: 0.8971 - val_loss: 0.2313 - val_accuracy: 0.9257\n",
      "Epoch 17/50\n",
      "498/499 [============================>.] - ETA: 0s - loss: 0.2799 - accuracy: 0.8983\n",
      "Epoch 00017: val_accuracy did not improve from 0.92812\n",
      "499/499 [==============================] - 133s 267ms/step - loss: 0.2796 - accuracy: 0.8985 - val_loss: 0.2347 - val_accuracy: 0.9129\n",
      "Epoch 18/50\n",
      "498/499 [============================>.] - ETA: 0s - loss: 0.2587 - accuracy: 0.9067\n",
      "Epoch 00018: val_accuracy did not improve from 0.92812\n",
      "499/499 [==============================] - 132s 264ms/step - loss: 0.2588 - accuracy: 0.9067 - val_loss: 0.3641 - val_accuracy: 0.8442\n",
      "Epoch 19/50\n",
      "498/499 [============================>.] - ETA: 0s - loss: 0.2467 - accuracy: 0.9100\n",
      "Epoch 00019: val_accuracy did not improve from 0.92812\n",
      "499/499 [==============================] - 131s 263ms/step - loss: 0.2476 - accuracy: 0.9097 - val_loss: 0.2285 - val_accuracy: 0.9125\n",
      "Epoch 20/50\n",
      "498/499 [============================>.] - ETA: 0s - loss: 0.2410 - accuracy: 0.9144\n",
      "Epoch 00020: val_accuracy did not improve from 0.92812\n",
      "499/499 [==============================] - 131s 263ms/step - loss: 0.2410 - accuracy: 0.9144 - val_loss: 0.2375 - val_accuracy: 0.9125\n"
     ]
    }
   ],
   "source": [
    "# Train the model\n",
    "history = model.fit_generator(\n",
    "    train_generator,\n",
    "    validation_data=validation_generator,\n",
    "    epochs=50,\n",
    "    verbose=1,\n",
    "    steps_per_epoch=train_generator.n // train_generator.batch_size,\n",
    "    validation_steps=validation_generator.n // validation_generator.batch_size,\n",
    "    callbacks=callbacks_list,\n",
    "    class_weight=class_weights,\n",
    "    use_multiprocessing=True\n",
    ")"
   ]
  },
  {
   "cell_type": "code",
   "execution_count": 30,
   "metadata": {
    "ExecuteTime": {
     "end_time": "2020-02-02T13:36:44.241501Z",
     "start_time": "2020-02-02T13:36:43.817303Z"
    }
   },
   "outputs": [],
   "source": [
    "# For plotting\n",
    "import matplotlib.pyplot as plt"
   ]
  },
  {
   "cell_type": "code",
   "execution_count": 31,
   "metadata": {
    "ExecuteTime": {
     "end_time": "2020-02-02T13:36:44.781741Z",
     "start_time": "2020-02-02T13:36:44.298046Z"
    }
   },
   "outputs": [
    {
     "data": {
      "image/png": "[encoded data removed]",
      "text/plain": [
       "<Figure size 432x288 with 2 Axes>"
      ]
     },
     "metadata": {
      "needs_background": "light"
     },
     "output_type": "display_data"
    }
   ],
   "source": [
    "# Plot the history\n",
    "_, (ax1, ax2) = plt.subplots(2)\n",
    "ax1.plot(history.history['accuracy'])\n",
    "ax1.plot(history.history['val_accuracy'])\n",
    "ax1.set_title(f'model_accuracy')\n",
    "ax1.set_ylabel('accuracy')\n",
    "ax1.set_xlabel('epoch')\n",
    "ax1.legend(['train', 'test'], loc='best')\n",
    "ax2.plot(history.history['loss'])\n",
    "ax2.plot(history.history['val_loss'])\n",
    "ax2.set_title(f'model_loss')\n",
    "ax2.set_ylabel('loss')\n",
    "ax2.set_xlabel('epoch')\n",
    "ax2.legend(['train', 'test'], loc='best')\n",
    "plt.tight_layout()"
   ]
  },
  {
   "cell_type": "markdown",
   "metadata": {},
   "source": [
    "# Section 4: Prediction Phase"
   ]
  },
  {
   "cell_type": "markdown",
   "metadata": {},
   "source": [
    "Now that we are done with the training phase, we are ready to make predictions.\n",
    "\n",
    "1) As we were saving the model's checkpoints, we will load the model locally from the drive. My selection would be the second last weights for no specific reason. We will use kera's, models' `load_model` method for the purpose. We define the path to the checkpoints of our choice and then we load the model.\n",
    "\n",
    "2) We still have our `test_generator` unused so we will make the predictions on the test generator via the method `predict_generator`. This will provide us with a list of softmax probability vector for each class. As we are only concerned with the class of max probability, we use the numpy's `argmax` method to select the heights probability."
   ]
  },
  {
   "cell_type": "code",
   "execution_count": 5,
   "metadata": {
    "ExecuteTime": {
     "end_time": "2020-02-06T11:38:39.669287Z",
     "start_time": "2020-02-06T11:38:39.660662Z"
    }
   },
   "outputs": [],
   "source": [
    "from tensorflow.keras.models import load_model"
   ]
  },
  {
   "cell_type": "code",
   "execution_count": 33,
   "metadata": {
    "ExecuteTime": {
     "end_time": "2020-02-02T13:37:18.080007Z",
     "start_time": "2020-02-02T13:37:16.877476Z"
    }
   },
   "outputs": [],
   "source": [
    "path_to_model = \"./checkpoints/weights-improvement-15-0.93.hdf5\"\n",
    "model = load_model(path_to_model)"
   ]
  },
  {
   "cell_type": "code",
   "execution_count": 34,
   "metadata": {
    "ExecuteTime": {
     "end_time": "2020-02-02T13:37:32.680941Z",
     "start_time": "2020-02-02T13:37:21.716237Z"
    }
   },
   "outputs": [],
   "source": [
    "# Make predicions\n",
    "Y_pred = model.predict_generator(\n",
    "    test_generator, test_generator.n // test_generator.batch_size+1)\n",
    "y_pred = np.argmax(Y_pred, axis=1)"
   ]
  },
  {
   "cell_type": "markdown",
   "metadata": {},
   "source": [
    "# Section 5: Model Evaluation Phase"
   ]
  },
  {
   "cell_type": "markdown",
   "metadata": {},
   "source": [
    "After making the predictions, we are ready to check our model's evaluation based on the predictions. For this we will use the `confusion_matrix` and `classification_report`.\n",
    "\n",
    "1) We simply pass the `test_generator.classes` and the `y_pred` of our model to the confusion matrix which generates the confusion matrix.\n",
    "\n",
    "2) We generate the classification report then. First we get the `target_names` using the `test_generator.class_indices`. Then we simply pass ont `test_generator.classes`, `y_pred`, `target_names` to the `classification_report` method from `sklearn.metrics`"
   ]
  },
  {
   "cell_type": "code",
   "execution_count": 35,
   "metadata": {
    "ExecuteTime": {
     "end_time": "2020-02-02T13:37:34.884503Z",
     "start_time": "2020-02-02T13:37:34.871636Z"
    }
   },
   "outputs": [],
   "source": [
    "from sklearn.metrics import classification_report, confusion_matrix"
   ]
  },
  {
   "cell_type": "code",
   "execution_count": 36,
   "metadata": {
    "ExecuteTime": {
     "end_time": "2020-02-02T13:37:38.977753Z",
     "start_time": "2020-02-02T13:37:38.950373Z"
    }
   },
   "outputs": [
    {
     "name": "stdout",
     "output_type": "stream",
     "text": [
      "Confusion Matrix:\n",
      "\n",
      "[[153  31  23 113 117 155]\n",
      " [ 32   9   6  33  29  27]\n",
      " [ 11  10   1  13  11  11]\n",
      " [119  25  32 100 113 117]\n",
      " [126  32  23 101  85 137]\n",
      " [150  34  33 116 117 126]]\n"
     ]
    }
   ],
   "source": [
    "print('Confusion Matrix:\\n')\n",
    "print(confusion_matrix(test_generator.classes, y_pred))"
   ]
  },
  {
   "cell_type": "code",
   "execution_count": 37,
   "metadata": {
    "ExecuteTime": {
     "end_time": "2020-02-02T13:37:51.473712Z",
     "start_time": "2020-02-02T13:37:51.453409Z"
    }
   },
   "outputs": [
    {
     "name": "stdout",
     "output_type": "stream",
     "text": [
      "Classification Report:\n",
      "\n",
      "              precision    recall  f1-score   support\n",
      "\n",
      "         Bag       0.26      0.26      0.26       592\n",
      "      Sandal       0.06      0.07      0.06       136\n",
      "  automobile       0.01      0.02      0.01        57\n",
      "        bird       0.21      0.20      0.20       506\n",
      "       truck       0.18      0.17      0.17       504\n",
      "  Ankle boot       0.22      0.22      0.22       576\n",
      "\n",
      "    accuracy                           0.20      2371\n",
      "   macro avg       0.16      0.15      0.16      2371\n",
      "weighted avg       0.21      0.20      0.20      2371\n",
      "\n"
     ]
    }
   ],
   "source": [
    "print('Classification Report:\\n')\n",
    "target_names = list(test_generator.class_indices.keys())\n",
    "print(classification_report(test_generator.classes,\n",
    "                            y_pred, target_names=target_names))"
   ]
  },
  {
   "cell_type": "markdown",
   "metadata": {},
   "source": [
    "# Conclusion"
   ]
  },
  {
   "cell_type": "markdown",
   "metadata": {},
   "source": [
    "Summary of the task is\n",
    "\n",
    "  - We load the Json\n",
    "  - We Process the image based on the color mode\n",
    "  - We split the data in train-test\n",
    "  - We then compute the class weights\n",
    "  - We store the images locally\n",
    "  - We load the images using the Image data generator\n",
    "  - We get the train-validation and test generator\n",
    "  - We apply augmentation on the train and validation set.\n",
    "  - We train the custom model using the callback in which we define the check points and early stopping.\n",
    "  - We make predictions using the test generator\n",
    "  - We evaluate the model using the confusion matrix and classification report.\n",
    "  \n",
    "We see that the model is classifying just a considerable amount which can be resolved using the `hyper-parameter tunning`. We can use the grid search for this purpose and tune the parameters like `learning rate`, `loss` and `optimizers`. The problem is that the grid search will take some great amount of time. But the results can be improved."
   ]
  },
  {
   "cell_type": "markdown",
   "metadata": {},
   "source": [
    "# Prediction for Arbisoft Evaluation"
   ]
  },
  {
   "cell_type": "code",
   "execution_count": 3,
   "metadata": {
    "ExecuteTime": {
     "end_time": "2020-02-06T15:45:07.874454Z",
     "start_time": "2020-02-06T15:45:07.860772Z"
    }
   },
   "outputs": [],
   "source": [
    "import cv2\n",
    "import numpy as np\n",
    "from tensorflow.keras.models import load_model\n",
    "from json import load\n",
    "from math import sqrt\n",
    "from os import listdir"
   ]
  },
  {
   "cell_type": "code",
   "execution_count": 4,
   "metadata": {
    "ExecuteTime": {
     "end_time": "2020-02-06T15:45:08.038416Z",
     "start_time": "2020-02-06T15:45:08.016579Z"
    }
   },
   "outputs": [],
   "source": [
    "# Get the unique classes\n",
    "classes = np.array(listdir(\"./data/images/train/\"))\n",
    "\n",
    "\n",
    "def predict(path):\n",
    "    '''\n",
    "        This method assumes the data to be in a json file just like the dataset. \n",
    "        It will load a model locally that was stored after training and use it to predict the class.\n",
    "    '''\n",
    "\n",
    "    # Load the locally saved model\n",
    "    path_to_model = \"./checkpoints/weights-improvement-15-0.93.hdf5\"\n",
    "    model = load_model(path_to_model)\n",
    "\n",
    "    # Load the json data\n",
    "    with open(path) as json_file:\n",
    "        raw_data = load(json_file)\n",
    "\n",
    "    # For every dictionary in `raw_data`\n",
    "    for obj in raw_data:\n",
    "\n",
    "        # Get the Label of the Image\n",
    "        label = list(obj)[0]\n",
    "        # Get the Color_Mode of the image\n",
    "        color_mode = list(obj[label])[0]\n",
    "\n",
    "        # Case 1: If the image is gray\n",
    "        if color_mode == 'grey':\n",
    "\n",
    "            # Get the pixel List casted to numpy array\n",
    "            pixels = np.array(obj[label][color_mode])\n",
    "\n",
    "            # Reshape the 1D Array to a 2D array to form an image\n",
    "            reshape_index = int(sqrt(pixels.shape[0]))\n",
    "            image = np.reshape(pixels, (reshape_index, reshape_index))\n",
    "\n",
    "            # Resize\n",
    "            image = cv2.resize(image.astype('float32'), (30, 30))\n",
    "            # Expand the dims to make a Rank 4 Tensor\n",
    "            image = np.expand_dims(image, axis=0)\n",
    "            image = np.expand_dims(image, axis=3)\n",
    "\n",
    "        # Case 2: If the image is Colored\n",
    "        elif color_mode == 'R':\n",
    "\n",
    "            # Get Red Channel, cast to numpy array and Reshape 1D -> 2D\n",
    "            r_pixels = np.array(obj[label]['R'])\n",
    "            reshape_index = int(sqrt(r_pixels.shape[0]))\n",
    "            r_pixels = np.reshape(r_pixels, (reshape_index, reshape_index))\n",
    "\n",
    "            # Get Green Channel, cast to numpy array and Reshape 1D -> 2D\n",
    "            g_pixels = np.array(obj[label]['G'])\n",
    "            reshape_index = int(sqrt(g_pixels.shape[0]))\n",
    "            g_pixels = np.reshape(g_pixels, (reshape_index, reshape_index))\n",
    "\n",
    "            # Get Blue Channel, cast to numpy array and Reshape 1D -> 2D\n",
    "            b_pixels = np.array(obj[label]['B'])\n",
    "            reshape_index = int(sqrt(b_pixels.shape[0]))\n",
    "            b_pixels = np.reshape(b_pixels, (reshape_index, reshape_index))\n",
    "\n",
    "            # Combine the 3 channels\n",
    "            image = np.dstack((b_pixels, g_pixels, r_pixels))\n",
    "\n",
    "            # Resize\n",
    "            image = cv2.resize(image.astype('float32'), (30, 30))\n",
    "            # Change to grayscale\n",
    "            image = cv2.cvtColor(image, cv2.COLOR_BGR2GRAY)\n",
    "            # Expand the dims to make a Rank 4 Tensor\n",
    "            image = np.expand_dims(image, axis=0)\n",
    "            image = np.expand_dims(image, axis=3)\n",
    "\n",
    "        print(classes[np.argmax(model.predict(image), axis=1)])"
   ]
  },
  {
   "cell_type": "code",
   "execution_count": 5,
   "metadata": {
    "ExecuteTime": {
     "end_time": "2020-02-06T15:45:08.778056Z",
     "start_time": "2020-02-06T15:45:08.766902Z"
    }
   },
   "outputs": [],
   "source": [
    "test = \"./data/gen_img_data.json\""
   ]
  },
  {
   "cell_type": "code",
   "execution_count": 6,
   "metadata": {
    "ExecuteTime": {
     "end_time": "2020-02-06T15:45:22.537054Z",
     "start_time": "2020-02-06T15:45:10.350466Z"
    },
    "scrolled": true
   },
   "outputs": [
    {
     "name": "stdout",
     "output_type": "stream",
     "text": [
      "['Ankle boot']\n",
      "['Sandal']\n",
      "['Sandal']\n",
      "['Ankle boot']\n",
      "['Sandal']\n",
      "['Sandal']\n",
      "['Ankle boot']\n",
      "['Bag']\n",
      "['Bag']\n",
      "['Bag']\n",
      "['Sandal']\n",
      "['Ankle boot']\n",
      "['Sandal']\n",
      "['Ankle boot']\n",
      "['Bag']\n",
      "['Sandal']\n",
      "['Sandal']\n",
      "['Sandal']\n",
      "['Ankle boot']\n",
      "['Sandal']\n",
      "['Ankle boot']\n",
      "['Ankle boot']\n",
      "['Ankle boot']\n"
     ]
    },
    {
     "ename": "KeyboardInterrupt",
     "evalue": "",
     "output_type": "error",
     "traceback": [
      "\u001b[0;31m---------------------------------------------------------------------------\u001b[0m",
      "\u001b[0;31mKeyboardInterrupt\u001b[0m                         Traceback (most recent call last)",
      "\u001b[0;32m<ipython-input-6-99847d487582>\u001b[0m in \u001b[0;36m<module>\u001b[0;34m\u001b[0m\n\u001b[0;32m----> 1\u001b[0;31m \u001b[0mpredict\u001b[0m\u001b[0;34m(\u001b[0m\u001b[0mtest\u001b[0m\u001b[0;34m)\u001b[0m\u001b[0;34m\u001b[0m\u001b[0;34m\u001b[0m\u001b[0m\n\u001b[0m",
      "\u001b[0;32m<ipython-input-4-e6dbbb324f1e>\u001b[0m in \u001b[0;36mpredict\u001b[0;34m(path)\u001b[0m\n\u001b[1;32m     69\u001b[0m             \u001b[0mimage\u001b[0m \u001b[0;34m=\u001b[0m \u001b[0mnp\u001b[0m\u001b[0;34m.\u001b[0m\u001b[0mexpand_dims\u001b[0m\u001b[0;34m(\u001b[0m\u001b[0mimage\u001b[0m\u001b[0;34m,\u001b[0m \u001b[0maxis\u001b[0m\u001b[0;34m=\u001b[0m\u001b[0;36m3\u001b[0m\u001b[0;34m)\u001b[0m\u001b[0;34m\u001b[0m\u001b[0;34m\u001b[0m\u001b[0m\n\u001b[1;32m     70\u001b[0m \u001b[0;34m\u001b[0m\u001b[0m\n\u001b[0;32m---> 71\u001b[0;31m         \u001b[0mprint\u001b[0m\u001b[0;34m(\u001b[0m\u001b[0mclasses\u001b[0m\u001b[0;34m[\u001b[0m\u001b[0mnp\u001b[0m\u001b[0;34m.\u001b[0m\u001b[0margmax\u001b[0m\u001b[0;34m(\u001b[0m\u001b[0mmodel\u001b[0m\u001b[0;34m.\u001b[0m\u001b[0mpredict\u001b[0m\u001b[0;34m(\u001b[0m\u001b[0mimage\u001b[0m\u001b[0;34m)\u001b[0m\u001b[0;34m,\u001b[0m \u001b[0maxis\u001b[0m\u001b[0;34m=\u001b[0m\u001b[0;36m1\u001b[0m\u001b[0;34m)\u001b[0m\u001b[0;34m]\u001b[0m\u001b[0;34m)\u001b[0m\u001b[0;34m\u001b[0m\u001b[0;34m\u001b[0m\u001b[0m\n\u001b[0m",
      "\u001b[0;32m~/anaconda3/envs/tf/lib/python3.7/site-packages/tensorflow_core/python/keras/engine/training.py\u001b[0m in \u001b[0;36mpredict\u001b[0;34m(self, x, batch_size, verbose, steps, callbacks, max_queue_size, workers, use_multiprocessing)\u001b[0m\n\u001b[1;32m    907\u001b[0m         \u001b[0mmax_queue_size\u001b[0m\u001b[0;34m=\u001b[0m\u001b[0mmax_queue_size\u001b[0m\u001b[0;34m,\u001b[0m\u001b[0;34m\u001b[0m\u001b[0;34m\u001b[0m\u001b[0m\n\u001b[1;32m    908\u001b[0m         \u001b[0mworkers\u001b[0m\u001b[0;34m=\u001b[0m\u001b[0mworkers\u001b[0m\u001b[0;34m,\u001b[0m\u001b[0;34m\u001b[0m\u001b[0;34m\u001b[0m\u001b[0m\n\u001b[0;32m--> 909\u001b[0;31m         use_multiprocessing=use_multiprocessing)\n\u001b[0m\u001b[1;32m    910\u001b[0m \u001b[0;34m\u001b[0m\u001b[0m\n\u001b[1;32m    911\u001b[0m   \u001b[0;32mdef\u001b[0m \u001b[0mreset_metrics\u001b[0m\u001b[0;34m(\u001b[0m\u001b[0mself\u001b[0m\u001b[0;34m)\u001b[0m\u001b[0;34m:\u001b[0m\u001b[0;34m\u001b[0m\u001b[0;34m\u001b[0m\u001b[0m\n",
      "\u001b[0;32m~/anaconda3/envs/tf/lib/python3.7/site-packages/tensorflow_core/python/keras/engine/training_v2.py\u001b[0m in \u001b[0;36mpredict\u001b[0;34m(self, model, x, batch_size, verbose, steps, callbacks, **kwargs)\u001b[0m\n\u001b[1;32m    460\u001b[0m     return self._model_iteration(\n\u001b[1;32m    461\u001b[0m         \u001b[0mmodel\u001b[0m\u001b[0;34m,\u001b[0m \u001b[0mModeKeys\u001b[0m\u001b[0;34m.\u001b[0m\u001b[0mPREDICT\u001b[0m\u001b[0;34m,\u001b[0m \u001b[0mx\u001b[0m\u001b[0;34m=\u001b[0m\u001b[0mx\u001b[0m\u001b[0;34m,\u001b[0m \u001b[0mbatch_size\u001b[0m\u001b[0;34m=\u001b[0m\u001b[0mbatch_size\u001b[0m\u001b[0;34m,\u001b[0m \u001b[0mverbose\u001b[0m\u001b[0;34m=\u001b[0m\u001b[0mverbose\u001b[0m\u001b[0;34m,\u001b[0m\u001b[0;34m\u001b[0m\u001b[0;34m\u001b[0m\u001b[0m\n\u001b[0;32m--> 462\u001b[0;31m         steps=steps, callbacks=callbacks, **kwargs)\n\u001b[0m\u001b[1;32m    463\u001b[0m \u001b[0;34m\u001b[0m\u001b[0m\n\u001b[1;32m    464\u001b[0m \u001b[0;34m\u001b[0m\u001b[0m\n",
      "\u001b[0;32m~/anaconda3/envs/tf/lib/python3.7/site-packages/tensorflow_core/python/keras/engine/training_v2.py\u001b[0m in \u001b[0;36m_model_iteration\u001b[0;34m(self, model, mode, x, y, batch_size, verbose, sample_weight, steps, callbacks, **kwargs)\u001b[0m\n\u001b[1;32m    394\u001b[0m           \u001b[0msample_weights\u001b[0m\u001b[0;34m=\u001b[0m\u001b[0msample_weight\u001b[0m\u001b[0;34m,\u001b[0m\u001b[0;34m\u001b[0m\u001b[0;34m\u001b[0m\u001b[0m\n\u001b[1;32m    395\u001b[0m           \u001b[0msteps\u001b[0m\u001b[0;34m=\u001b[0m\u001b[0msteps\u001b[0m\u001b[0;34m,\u001b[0m\u001b[0;34m\u001b[0m\u001b[0;34m\u001b[0m\u001b[0m\n\u001b[0;32m--> 396\u001b[0;31m           distribution_strategy=strategy)\n\u001b[0m\u001b[1;32m    397\u001b[0m       \u001b[0mtotal_samples\u001b[0m \u001b[0;34m=\u001b[0m \u001b[0m_get_total_number_of_samples\u001b[0m\u001b[0;34m(\u001b[0m\u001b[0madapter\u001b[0m\u001b[0;34m)\u001b[0m\u001b[0;34m\u001b[0m\u001b[0;34m\u001b[0m\u001b[0m\n\u001b[1;32m    398\u001b[0m       \u001b[0muse_sample\u001b[0m \u001b[0;34m=\u001b[0m \u001b[0mtotal_samples\u001b[0m \u001b[0;32mis\u001b[0m \u001b[0;32mnot\u001b[0m \u001b[0;32mNone\u001b[0m\u001b[0;34m\u001b[0m\u001b[0;34m\u001b[0m\u001b[0m\n",
      "\u001b[0;32m~/anaconda3/envs/tf/lib/python3.7/site-packages/tensorflow_core/python/keras/engine/training_v2.py\u001b[0m in \u001b[0;36m_process_inputs\u001b[0;34m(model, x, y, batch_size, epochs, sample_weights, class_weights, shuffle, steps, distribution_strategy, max_queue_size, workers, use_multiprocessing)\u001b[0m\n\u001b[1;32m    604\u001b[0m       \u001b[0mmax_queue_size\u001b[0m\u001b[0;34m=\u001b[0m\u001b[0mmax_queue_size\u001b[0m\u001b[0;34m,\u001b[0m\u001b[0;34m\u001b[0m\u001b[0;34m\u001b[0m\u001b[0m\n\u001b[1;32m    605\u001b[0m       \u001b[0mworkers\u001b[0m\u001b[0;34m=\u001b[0m\u001b[0mworkers\u001b[0m\u001b[0;34m,\u001b[0m\u001b[0;34m\u001b[0m\u001b[0;34m\u001b[0m\u001b[0m\n\u001b[0;32m--> 606\u001b[0;31m       use_multiprocessing=use_multiprocessing)\n\u001b[0m\u001b[1;32m    607\u001b[0m   \u001b[0;31m# As a fallback for the data type that does not work with\u001b[0m\u001b[0;34m\u001b[0m\u001b[0;34m\u001b[0m\u001b[0;34m\u001b[0m\u001b[0m\n\u001b[1;32m    608\u001b[0m   \u001b[0;31m# _standardize_user_data, use the _prepare_model_with_inputs.\u001b[0m\u001b[0;34m\u001b[0m\u001b[0;34m\u001b[0m\u001b[0;34m\u001b[0m\u001b[0m\n",
      "\u001b[0;32m~/anaconda3/envs/tf/lib/python3.7/site-packages/tensorflow_core/python/keras/engine/data_adapter.py\u001b[0m in \u001b[0;36m__init__\u001b[0;34m(self, x, y, sample_weights, batch_size, epochs, steps, shuffle, **kwargs)\u001b[0m\n\u001b[1;32m    326\u001b[0m \u001b[0;34m\u001b[0m\u001b[0m\n\u001b[1;32m    327\u001b[0m     dataset = dataset.map(\n\u001b[0;32m--> 328\u001b[0;31m         grab_batch, num_parallel_calls=dataset_ops.AUTOTUNE)\n\u001b[0m\u001b[1;32m    329\u001b[0m \u001b[0;34m\u001b[0m\u001b[0m\n\u001b[1;32m    330\u001b[0m     \u001b[0;31m# Default optimizations are disabled to avoid the overhead of (unnecessary)\u001b[0m\u001b[0;34m\u001b[0m\u001b[0;34m\u001b[0m\u001b[0;34m\u001b[0m\u001b[0m\n",
      "\u001b[0;32m~/anaconda3/envs/tf/lib/python3.7/site-packages/tensorflow_core/python/data/ops/dataset_ops.py\u001b[0m in \u001b[0;36mmap\u001b[0;34m(self, map_func, num_parallel_calls)\u001b[0m\n\u001b[1;32m   1212\u001b[0m     \u001b[0;32melse\u001b[0m\u001b[0;34m:\u001b[0m\u001b[0;34m\u001b[0m\u001b[0;34m\u001b[0m\u001b[0m\n\u001b[1;32m   1213\u001b[0m       return ParallelMapDataset(\n\u001b[0;32m-> 1214\u001b[0;31m           self, map_func, num_parallel_calls, preserve_cardinality=True)\n\u001b[0m\u001b[1;32m   1215\u001b[0m \u001b[0;34m\u001b[0m\u001b[0m\n\u001b[1;32m   1216\u001b[0m   \u001b[0;32mdef\u001b[0m \u001b[0mflat_map\u001b[0m\u001b[0;34m(\u001b[0m\u001b[0mself\u001b[0m\u001b[0;34m,\u001b[0m \u001b[0mmap_func\u001b[0m\u001b[0;34m)\u001b[0m\u001b[0;34m:\u001b[0m\u001b[0;34m\u001b[0m\u001b[0;34m\u001b[0m\u001b[0m\n",
      "\u001b[0;32m~/anaconda3/envs/tf/lib/python3.7/site-packages/tensorflow_core/python/data/ops/dataset_ops.py\u001b[0m in \u001b[0;36m__init__\u001b[0;34m(self, input_dataset, map_func, num_parallel_calls, use_inter_op_parallelism, preserve_cardinality, use_legacy_function)\u001b[0m\n\u001b[1;32m   3452\u001b[0m         \u001b[0mself\u001b[0m\u001b[0;34m.\u001b[0m\u001b[0m_transformation_name\u001b[0m\u001b[0;34m(\u001b[0m\u001b[0;34m)\u001b[0m\u001b[0;34m,\u001b[0m\u001b[0;34m\u001b[0m\u001b[0;34m\u001b[0m\u001b[0m\n\u001b[1;32m   3453\u001b[0m         \u001b[0mdataset\u001b[0m\u001b[0;34m=\u001b[0m\u001b[0minput_dataset\u001b[0m\u001b[0;34m,\u001b[0m\u001b[0;34m\u001b[0m\u001b[0;34m\u001b[0m\u001b[0m\n\u001b[0;32m-> 3454\u001b[0;31m         use_legacy_function=use_legacy_function)\n\u001b[0m\u001b[1;32m   3455\u001b[0m     self._num_parallel_calls = ops.convert_to_tensor(\n\u001b[1;32m   3456\u001b[0m         num_parallel_calls, dtype=dtypes.int32, name=\"num_parallel_calls\")\n",
      "\u001b[0;32m~/anaconda3/envs/tf/lib/python3.7/site-packages/tensorflow_core/python/data/ops/dataset_ops.py\u001b[0m in \u001b[0;36m__init__\u001b[0;34m(self, func, transformation_name, dataset, input_classes, input_shapes, input_types, input_structure, add_to_graph, use_legacy_function, defun_kwargs)\u001b[0m\n\u001b[1;32m   2693\u001b[0m       \u001b[0mresource_tracker\u001b[0m \u001b[0;34m=\u001b[0m \u001b[0mtracking\u001b[0m\u001b[0;34m.\u001b[0m\u001b[0mResourceTracker\u001b[0m\u001b[0;34m(\u001b[0m\u001b[0;34m)\u001b[0m\u001b[0;34m\u001b[0m\u001b[0;34m\u001b[0m\u001b[0m\n\u001b[1;32m   2694\u001b[0m       \u001b[0;32mwith\u001b[0m \u001b[0mtracking\u001b[0m\u001b[0;34m.\u001b[0m\u001b[0mresource_tracker_scope\u001b[0m\u001b[0;34m(\u001b[0m\u001b[0mresource_tracker\u001b[0m\u001b[0;34m)\u001b[0m\u001b[0;34m:\u001b[0m\u001b[0;34m\u001b[0m\u001b[0;34m\u001b[0m\u001b[0m\n\u001b[0;32m-> 2695\u001b[0;31m         \u001b[0mself\u001b[0m\u001b[0;34m.\u001b[0m\u001b[0m_function\u001b[0m \u001b[0;34m=\u001b[0m \u001b[0mwrapper_fn\u001b[0m\u001b[0;34m.\u001b[0m\u001b[0m_get_concrete_function_internal\u001b[0m\u001b[0;34m(\u001b[0m\u001b[0;34m)\u001b[0m\u001b[0;34m\u001b[0m\u001b[0;34m\u001b[0m\u001b[0m\n\u001b[0m\u001b[1;32m   2696\u001b[0m         \u001b[0;32mif\u001b[0m \u001b[0madd_to_graph\u001b[0m\u001b[0;34m:\u001b[0m\u001b[0;34m\u001b[0m\u001b[0;34m\u001b[0m\u001b[0m\n\u001b[1;32m   2697\u001b[0m           \u001b[0mself\u001b[0m\u001b[0;34m.\u001b[0m\u001b[0m_function\u001b[0m\u001b[0;34m.\u001b[0m\u001b[0madd_to_graph\u001b[0m\u001b[0;34m(\u001b[0m\u001b[0mops\u001b[0m\u001b[0;34m.\u001b[0m\u001b[0mget_default_graph\u001b[0m\u001b[0;34m(\u001b[0m\u001b[0;34m)\u001b[0m\u001b[0;34m)\u001b[0m\u001b[0;34m\u001b[0m\u001b[0;34m\u001b[0m\u001b[0m\n",
      "\u001b[0;32m~/anaconda3/envs/tf/lib/python3.7/site-packages/tensorflow_core/python/eager/function.py\u001b[0m in \u001b[0;36m_get_concrete_function_internal\u001b[0;34m(self, *args, **kwargs)\u001b[0m\n\u001b[1;32m   1852\u001b[0m     \u001b[0;34m\"\"\"Bypasses error checking when getting a graph function.\"\"\"\u001b[0m\u001b[0;34m\u001b[0m\u001b[0;34m\u001b[0m\u001b[0m\n\u001b[1;32m   1853\u001b[0m     graph_function = self._get_concrete_function_internal_garbage_collected(\n\u001b[0;32m-> 1854\u001b[0;31m         *args, **kwargs)\n\u001b[0m\u001b[1;32m   1855\u001b[0m     \u001b[0;31m# We're returning this concrete function to someone, and they may keep a\u001b[0m\u001b[0;34m\u001b[0m\u001b[0;34m\u001b[0m\u001b[0;34m\u001b[0m\u001b[0m\n\u001b[1;32m   1856\u001b[0m     \u001b[0;31m# reference to the FuncGraph without keeping a reference to the\u001b[0m\u001b[0;34m\u001b[0m\u001b[0;34m\u001b[0m\u001b[0;34m\u001b[0m\u001b[0m\n",
      "\u001b[0;32m~/anaconda3/envs/tf/lib/python3.7/site-packages/tensorflow_core/python/eager/function.py\u001b[0m in \u001b[0;36m_get_concrete_function_internal_garbage_collected\u001b[0;34m(self, *args, **kwargs)\u001b[0m\n\u001b[1;32m   1846\u001b[0m     \u001b[0;32mif\u001b[0m \u001b[0mself\u001b[0m\u001b[0;34m.\u001b[0m\u001b[0minput_signature\u001b[0m\u001b[0;34m:\u001b[0m\u001b[0;34m\u001b[0m\u001b[0;34m\u001b[0m\u001b[0m\n\u001b[1;32m   1847\u001b[0m       \u001b[0margs\u001b[0m\u001b[0;34m,\u001b[0m \u001b[0mkwargs\u001b[0m \u001b[0;34m=\u001b[0m \u001b[0;32mNone\u001b[0m\u001b[0;34m,\u001b[0m \u001b[0;32mNone\u001b[0m\u001b[0;34m\u001b[0m\u001b[0;34m\u001b[0m\u001b[0m\n\u001b[0;32m-> 1848\u001b[0;31m     \u001b[0mgraph_function\u001b[0m\u001b[0;34m,\u001b[0m \u001b[0m_\u001b[0m\u001b[0;34m,\u001b[0m \u001b[0m_\u001b[0m \u001b[0;34m=\u001b[0m \u001b[0mself\u001b[0m\u001b[0;34m.\u001b[0m\u001b[0m_maybe_define_function\u001b[0m\u001b[0;34m(\u001b[0m\u001b[0margs\u001b[0m\u001b[0;34m,\u001b[0m \u001b[0mkwargs\u001b[0m\u001b[0;34m)\u001b[0m\u001b[0;34m\u001b[0m\u001b[0;34m\u001b[0m\u001b[0m\n\u001b[0m\u001b[1;32m   1849\u001b[0m     \u001b[0;32mreturn\u001b[0m \u001b[0mgraph_function\u001b[0m\u001b[0;34m\u001b[0m\u001b[0;34m\u001b[0m\u001b[0m\n\u001b[1;32m   1850\u001b[0m \u001b[0;34m\u001b[0m\u001b[0m\n",
      "\u001b[0;32m~/anaconda3/envs/tf/lib/python3.7/site-packages/tensorflow_core/python/eager/function.py\u001b[0m in \u001b[0;36m_maybe_define_function\u001b[0;34m(self, args, kwargs)\u001b[0m\n\u001b[1;32m   2148\u001b[0m         \u001b[0mgraph_function\u001b[0m \u001b[0;34m=\u001b[0m \u001b[0mself\u001b[0m\u001b[0;34m.\u001b[0m\u001b[0m_function_cache\u001b[0m\u001b[0;34m.\u001b[0m\u001b[0mprimary\u001b[0m\u001b[0;34m.\u001b[0m\u001b[0mget\u001b[0m\u001b[0;34m(\u001b[0m\u001b[0mcache_key\u001b[0m\u001b[0;34m,\u001b[0m \u001b[0;32mNone\u001b[0m\u001b[0;34m)\u001b[0m\u001b[0;34m\u001b[0m\u001b[0;34m\u001b[0m\u001b[0m\n\u001b[1;32m   2149\u001b[0m         \u001b[0;32mif\u001b[0m \u001b[0mgraph_function\u001b[0m \u001b[0;32mis\u001b[0m \u001b[0;32mNone\u001b[0m\u001b[0;34m:\u001b[0m\u001b[0;34m\u001b[0m\u001b[0;34m\u001b[0m\u001b[0m\n\u001b[0;32m-> 2150\u001b[0;31m           \u001b[0mgraph_function\u001b[0m \u001b[0;34m=\u001b[0m \u001b[0mself\u001b[0m\u001b[0;34m.\u001b[0m\u001b[0m_create_graph_function\u001b[0m\u001b[0;34m(\u001b[0m\u001b[0margs\u001b[0m\u001b[0;34m,\u001b[0m \u001b[0mkwargs\u001b[0m\u001b[0;34m)\u001b[0m\u001b[0;34m\u001b[0m\u001b[0;34m\u001b[0m\u001b[0m\n\u001b[0m\u001b[1;32m   2151\u001b[0m           \u001b[0mself\u001b[0m\u001b[0;34m.\u001b[0m\u001b[0m_function_cache\u001b[0m\u001b[0;34m.\u001b[0m\u001b[0mprimary\u001b[0m\u001b[0;34m[\u001b[0m\u001b[0mcache_key\u001b[0m\u001b[0;34m]\u001b[0m \u001b[0;34m=\u001b[0m \u001b[0mgraph_function\u001b[0m\u001b[0;34m\u001b[0m\u001b[0;34m\u001b[0m\u001b[0m\n\u001b[1;32m   2152\u001b[0m         \u001b[0;32mreturn\u001b[0m \u001b[0mgraph_function\u001b[0m\u001b[0;34m,\u001b[0m \u001b[0margs\u001b[0m\u001b[0;34m,\u001b[0m \u001b[0mkwargs\u001b[0m\u001b[0;34m\u001b[0m\u001b[0;34m\u001b[0m\u001b[0m\n",
      "\u001b[0;32m~/anaconda3/envs/tf/lib/python3.7/site-packages/tensorflow_core/python/eager/function.py\u001b[0m in \u001b[0;36m_create_graph_function\u001b[0;34m(self, args, kwargs, override_flat_arg_shapes)\u001b[0m\n\u001b[1;32m   2039\u001b[0m             \u001b[0marg_names\u001b[0m\u001b[0;34m=\u001b[0m\u001b[0marg_names\u001b[0m\u001b[0;34m,\u001b[0m\u001b[0;34m\u001b[0m\u001b[0;34m\u001b[0m\u001b[0m\n\u001b[1;32m   2040\u001b[0m             \u001b[0moverride_flat_arg_shapes\u001b[0m\u001b[0;34m=\u001b[0m\u001b[0moverride_flat_arg_shapes\u001b[0m\u001b[0;34m,\u001b[0m\u001b[0;34m\u001b[0m\u001b[0;34m\u001b[0m\u001b[0m\n\u001b[0;32m-> 2041\u001b[0;31m             capture_by_value=self._capture_by_value),\n\u001b[0m\u001b[1;32m   2042\u001b[0m         \u001b[0mself\u001b[0m\u001b[0;34m.\u001b[0m\u001b[0m_function_attributes\u001b[0m\u001b[0;34m,\u001b[0m\u001b[0;34m\u001b[0m\u001b[0;34m\u001b[0m\u001b[0m\n\u001b[1;32m   2043\u001b[0m         \u001b[0;31m# Tell the ConcreteFunction to clean up its graph once it goes out of\u001b[0m\u001b[0;34m\u001b[0m\u001b[0;34m\u001b[0m\u001b[0;34m\u001b[0m\u001b[0m\n",
      "\u001b[0;32m~/anaconda3/envs/tf/lib/python3.7/site-packages/tensorflow_core/python/framework/func_graph.py\u001b[0m in \u001b[0;36mfunc_graph_from_py_func\u001b[0;34m(name, python_func, args, kwargs, signature, func_graph, autograph, autograph_options, add_control_dependencies, arg_names, op_return_value, collections, capture_by_value, override_flat_arg_shapes)\u001b[0m\n\u001b[1;32m    913\u001b[0m                                           converted_func)\n\u001b[1;32m    914\u001b[0m \u001b[0;34m\u001b[0m\u001b[0m\n\u001b[0;32m--> 915\u001b[0;31m       \u001b[0mfunc_outputs\u001b[0m \u001b[0;34m=\u001b[0m \u001b[0mpython_func\u001b[0m\u001b[0;34m(\u001b[0m\u001b[0;34m*\u001b[0m\u001b[0mfunc_args\u001b[0m\u001b[0;34m,\u001b[0m \u001b[0;34m**\u001b[0m\u001b[0mfunc_kwargs\u001b[0m\u001b[0;34m)\u001b[0m\u001b[0;34m\u001b[0m\u001b[0;34m\u001b[0m\u001b[0m\n\u001b[0m\u001b[1;32m    916\u001b[0m \u001b[0;34m\u001b[0m\u001b[0m\n\u001b[1;32m    917\u001b[0m       \u001b[0;31m# invariant: `func_outputs` contains only Tensors, CompositeTensors,\u001b[0m\u001b[0;34m\u001b[0m\u001b[0;34m\u001b[0m\u001b[0;34m\u001b[0m\u001b[0m\n",
      "\u001b[0;32m~/anaconda3/envs/tf/lib/python3.7/site-packages/tensorflow_core/python/data/ops/dataset_ops.py\u001b[0m in \u001b[0;36mwrapper_fn\u001b[0;34m(*args)\u001b[0m\n\u001b[1;32m   2688\u001b[0m       \u001b[0;32mdef\u001b[0m \u001b[0mwrapper_fn\u001b[0m\u001b[0;34m(\u001b[0m\u001b[0;34m*\u001b[0m\u001b[0margs\u001b[0m\u001b[0;34m)\u001b[0m\u001b[0;34m:\u001b[0m  \u001b[0;31m# pylint: disable=missing-docstring\u001b[0m\u001b[0;34m\u001b[0m\u001b[0;34m\u001b[0m\u001b[0m\n\u001b[1;32m   2689\u001b[0m         \u001b[0mret\u001b[0m \u001b[0;34m=\u001b[0m \u001b[0m_wrapper_helper\u001b[0m\u001b[0;34m(\u001b[0m\u001b[0;34m*\u001b[0m\u001b[0margs\u001b[0m\u001b[0;34m)\u001b[0m\u001b[0;34m\u001b[0m\u001b[0;34m\u001b[0m\u001b[0m\n\u001b[0;32m-> 2690\u001b[0;31m         \u001b[0mret\u001b[0m \u001b[0;34m=\u001b[0m \u001b[0mstructure\u001b[0m\u001b[0;34m.\u001b[0m\u001b[0mto_tensor_list\u001b[0m\u001b[0;34m(\u001b[0m\u001b[0mself\u001b[0m\u001b[0;34m.\u001b[0m\u001b[0m_output_structure\u001b[0m\u001b[0;34m,\u001b[0m \u001b[0mret\u001b[0m\u001b[0;34m)\u001b[0m\u001b[0;34m\u001b[0m\u001b[0;34m\u001b[0m\u001b[0m\n\u001b[0m\u001b[1;32m   2691\u001b[0m         \u001b[0;32mreturn\u001b[0m \u001b[0;34m[\u001b[0m\u001b[0mops\u001b[0m\u001b[0;34m.\u001b[0m\u001b[0mconvert_to_tensor\u001b[0m\u001b[0;34m(\u001b[0m\u001b[0mt\u001b[0m\u001b[0;34m)\u001b[0m \u001b[0;32mfor\u001b[0m \u001b[0mt\u001b[0m \u001b[0;32min\u001b[0m \u001b[0mret\u001b[0m\u001b[0;34m]\u001b[0m\u001b[0;34m\u001b[0m\u001b[0;34m\u001b[0m\u001b[0m\n\u001b[1;32m   2692\u001b[0m \u001b[0;34m\u001b[0m\u001b[0m\n",
      "\u001b[0;32m~/anaconda3/envs/tf/lib/python3.7/site-packages/tensorflow_core/python/data/util/structure.py\u001b[0m in \u001b[0;36mto_tensor_list\u001b[0;34m(element_spec, element)\u001b[0m\n\u001b[1;32m    371\u001b[0m   return _to_tensor_list_helper(\n\u001b[1;32m    372\u001b[0m       \u001b[0;32mlambda\u001b[0m \u001b[0mstate\u001b[0m\u001b[0;34m,\u001b[0m \u001b[0mspec\u001b[0m\u001b[0;34m,\u001b[0m \u001b[0mcomponent\u001b[0m\u001b[0;34m:\u001b[0m \u001b[0mstate\u001b[0m \u001b[0;34m+\u001b[0m \u001b[0mspec\u001b[0m\u001b[0;34m.\u001b[0m\u001b[0m_to_tensor_list\u001b[0m\u001b[0;34m(\u001b[0m\u001b[0mcomponent\u001b[0m\u001b[0;34m)\u001b[0m\u001b[0;34m,\u001b[0m\u001b[0;34m\u001b[0m\u001b[0;34m\u001b[0m\u001b[0m\n\u001b[0;32m--> 373\u001b[0;31m       element_spec, element)\n\u001b[0m\u001b[1;32m    374\u001b[0m \u001b[0;34m\u001b[0m\u001b[0m\n\u001b[1;32m    375\u001b[0m \u001b[0;34m\u001b[0m\u001b[0m\n",
      "\u001b[0;32m~/anaconda3/envs/tf/lib/python3.7/site-packages/tensorflow_core/python/data/util/structure.py\u001b[0m in \u001b[0;36m_to_tensor_list_helper\u001b[0;34m(encode_fn, element_spec, element)\u001b[0m\n\u001b[1;32m    320\u001b[0m \u001b[0;34m\u001b[0m\u001b[0m\n\u001b[1;32m    321\u001b[0m   return functools.reduce(\n\u001b[0;32m--> 322\u001b[0;31m       reduce_fn, zip(nest.flatten(element_spec), nest.flatten(element)), [])\n\u001b[0m\u001b[1;32m    323\u001b[0m \u001b[0;34m\u001b[0m\u001b[0m\n\u001b[1;32m    324\u001b[0m \u001b[0;34m\u001b[0m\u001b[0m\n",
      "\u001b[0;31mKeyboardInterrupt\u001b[0m: "
     ]
    }
   ],
   "source": [
    "predict(test)"
   ]
  },
  {
   "cell_type": "code",
   "execution_count": null,
   "metadata": {},
   "outputs": [],
   "source": []
  }
 ],
 "metadata": {
  "kernelspec": {
   "display_name": "Python 3",
   "language": "python",
   "name": "python3"
  },
  "language_info": {
   "codemirror_mode": {
    "name": "ipython",
    "version": 3
   },
   "file_extension": ".py",
   "mimetype": "text/x-python",
   "name": "python",
   "nbconvert_exporter": "python",
   "pygments_lexer": "ipython3",
   "version": "3.7.6"
  },
  "toc": {
   "base_numbering": 1,
   "nav_menu": {},
   "number_sections": true,
   "sideBar": true,
   "skip_h1_title": false,
   "title_cell": "Table of Contents",
   "title_sidebar": "Contents",
   "toc_cell": false,
   "toc_position": {},
   "toc_section_display": true,
   "toc_window_display": false
  },
  "varInspector": {
   "cols": {
    "lenName": 16,
    "lenType": 16,
    "lenVar": 40
   },
   "kernels_config": {
    "python": {
     "delete_cmd_postfix": "",
     "delete_cmd_prefix": "del ",
     "library": "var_list.py",
     "varRefreshCmd": "print(var_dic_list())"
    },
    "r": {
     "delete_cmd_postfix": ") ",
     "delete_cmd_prefix": "rm(",
     "library": "var_list.r",
     "varRefreshCmd": "cat(var_dic_list()) "
    }
   },
   "types_to_exclude": [
    "module",
    "function",
    "builtin_function_or_method",
    "instance",
    "_Feature"
   ],
   "window_display": false
  }
 },
 "nbformat": 4,
 "nbformat_minor": 2
}
