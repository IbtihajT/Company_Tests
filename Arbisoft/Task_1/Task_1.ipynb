{
 "cells": [
  {
   "cell_type": "markdown",
   "metadata": {},
   "source": [
    "# Section 1: Dataset Generation and Preprocessing"
   ]
  },
  {
   "cell_type": "markdown",
   "metadata": {},
   "source": [
    "We are supposed to train a model that takes in a blog post and estimates the person's Gender and Horoscopic star. We have a dataset of XML files that contain the posts and in the name of the file is contained the the Gender and the Star of that person.\n",
    "\n",
    "1. <strong>Get Paths</strong>\n",
    "\n",
    "  We Use os method `listdir` to get all the name of the files in a list. We store it in a variable named `xml_paths`.\n",
    "\n",
    "2. <strong>Get required data</strong>\n",
    "\n",
    "  - We have a variable `data_in_list` which is a list of lists, which will hold the required data.\n",
    "  - For Every XML file found in the `xml_paths`\n",
    "    - We Get the `gender` and `star` from the file name\n",
    "    - We Open the file using a context manager and get the content of the file using the `read` method.\n",
    "    - We then use the `chardet` module to determine the type of encoding present in the content. Chardet's method `detect` takes in the content and spits out a dictionary containing the type of encoding and the confidence associated to it.\n",
    "    - We then create a `BeautifulSoup` object named `soup`. We pass it the `content`, `xml` mode and the `type of encoding` (given from chardet) which it needs to use while reading the content.\n",
    "    - Then we use the `find_all` method and pass it the string `'post'`.\n",
    "    - Now for every post found per file we\n",
    "      - Get the post's text using the `get_text` method.\n",
    "      - LowerCase the post content\n",
    "      - Remove Numbers from the content\n",
    "      - Remove Punctuations\n",
    "      - Remove Whitespaces\n",
    "      - We remove the stopwords from the data using the `nltk.corpus`'s `stopwords`\n",
    "      - We do lemmatization to bring every word to it's parent form. We use `nltk.stem`'s `WordNetLemmatizer` for the purpose.\n",
    "      - Remove URLs\n",
    "      - Spell Checking. Now the problem is that spell cheking module takes huge amount of time to correct the spellings. I have commented out the Spell Checking part because of less time. But we can include it for the processing of our text data.\n",
    "    - After the pre-processing of the data, we append it to the `data_in_list` list in the format of `[post, gender, star]`\n",
    "  - Now we have a list containing `594205` posts in it.\n",
    "  - We use the `data_in_list` variable to create a `Pandas Dataframe`. We have a data frame with headers `Post, Gender, Star` and the corresponding data.\n",
    "  - We simply save the dataframe locally in the format of a `csv`."
   ]
  },
  {
   "cell_type": "code",
   "execution_count": 1,
   "metadata": {
    "ExecuteTime": {
     "end_time": "2020-02-05T09:39:07.326864Z",
     "start_time": "2020-02-05T09:39:06.867426Z"
    }
   },
   "outputs": [],
   "source": [
    "from os import listdir\n",
    "from bs4 import BeautifulSoup\n",
    "import chardet\n",
    "from tqdm import tqdm\n",
    "import pandas as pd\n",
    "import re\n",
    "import string\n",
    "from spellchecker import SpellChecker"
   ]
  },
  {
   "cell_type": "code",
   "execution_count": 2,
   "metadata": {
    "ExecuteTime": {
     "end_time": "2020-02-05T09:39:08.343663Z",
     "start_time": "2020-02-05T09:39:08.246773Z"
    }
   },
   "outputs": [],
   "source": [
    "# Get file names of all the xmls\n",
    "xml_paths = listdir(\"./data/blogs_train/\")"
   ]
  },
  {
   "cell_type": "code",
   "execution_count": 3,
   "metadata": {
    "ExecuteTime": {
     "end_time": "2020-02-05T09:39:11.567891Z",
     "start_time": "2020-02-05T09:39:09.189656Z"
    }
   },
   "outputs": [
    {
     "name": "stderr",
     "output_type": "stream",
     "text": [
      "[nltk_data] Downloading package stopwords to\n",
      "[nltk_data]     /home/ibtihaj/nltk_data...\n",
      "[nltk_data]   Package stopwords is already up-to-date!\n",
      "[nltk_data] Downloading package punkt to /home/ibtihaj/nltk_data...\n",
      "[nltk_data]   Package punkt is already up-to-date!\n",
      "[nltk_data] Downloading package wordnet to /home/ibtihaj/nltk_data...\n",
      "[nltk_data]   Package wordnet is already up-to-date!\n",
      "[nltk_data] Downloading package averaged_perceptron_tagger to\n",
      "[nltk_data]     /home/ibtihaj/nltk_data...\n",
      "[nltk_data]   Package averaged_perceptron_tagger is already up-to-\n",
      "[nltk_data]       date!\n"
     ]
    },
    {
     "data": {
      "text/plain": [
       "True"
      ]
     },
     "execution_count": 3,
     "metadata": {},
     "output_type": "execute_result"
    }
   ],
   "source": [
    "from nltk.stem import WordNetLemmatizer\n",
    "from nltk.tokenize import word_tokenize\n",
    "from nltk.corpus import stopwords, wordnet\n",
    "import nltk\n",
    "nltk.download('stopwords')\n",
    "nltk.download('punkt')\n",
    "nltk.download('wordnet')\n",
    "nltk.download('averaged_perceptron_tagger')"
   ]
  },
  {
   "cell_type": "code",
   "execution_count": 5,
   "metadata": {
    "ExecuteTime": {
     "end_time": "2020-02-05T11:32:09.176337Z",
     "start_time": "2020-02-05T09:40:16.908170Z"
    }
   },
   "outputs": [
    {
     "name": "stderr",
     "output_type": "stream",
     "text": [
      "100%|██████████| 14600/14600 [1:51:52<00:00,  2.18it/s]  \n"
     ]
    }
   ],
   "source": [
    "# A list of lists containing the Post, Gender and Star as the elements\n",
    "# [[Post, Gender, Star]]\n",
    "data_in_list = list()\n",
    "\n",
    "# For every file in folder\n",
    "for file in tqdm(xml_paths):\n",
    "\n",
    "    # Get the gender from the file name\n",
    "    gender = file.split('.')[1]\n",
    "\n",
    "    # Get the star from the file name\n",
    "    star = file.split('.')[-2]\n",
    "\n",
    "    # Start reading the XML Files in binary mode\n",
    "    with open(f\"./data/blogs_train/{file}\", 'rb') as xml_file:\n",
    "\n",
    "        # Read the content\n",
    "        content = xml_file.read()\n",
    "\n",
    "        # Detect type of Encoding\n",
    "        encoding = chardet.detect(content)\n",
    "\n",
    "        # Create a BeautifulSoup Object with the detected encoding\n",
    "        soup = BeautifulSoup(\n",
    "            content, 'xml', from_encoding=encoding['encoding'])\n",
    "\n",
    "        # Get all the posts found per file\n",
    "        posts = soup.find_all('post')\n",
    "\n",
    "        # For every post found per file\n",
    "        for post in posts:\n",
    "\n",
    "            # Preprocessing\n",
    "\n",
    "            # Get the post text in `str` format\n",
    "            post_text = post.get_text()\n",
    "\n",
    "            # 1. LowerCase the text\n",
    "            text_lower = post_text.lower()\n",
    "\n",
    "            # 2. Remove Numbers\n",
    "            text_wo_numbers = re.sub(r'\\d+', '', text_lower)\n",
    "\n",
    "            # 3. Remove Punctuations\n",
    "            PUNCT_TO_REMOVE = string.punctuation\n",
    "            text_wo_punctuation = text_wo_numbers.translate(\n",
    "                str.maketrans('', '', PUNCT_TO_REMOVE))\n",
    "\n",
    "            # 4. Remove White Space\n",
    "            text_wo_whitespace = text_wo_punctuation.strip()\n",
    "\n",
    "            # 5. Remove Stop Words\n",
    "            STOPWORDS = set(stopwords.words('english'))\n",
    "            text_wo_stop = \" \".join([word for word in str(\n",
    "                text_wo_whitespace).split() if word not in STOPWORDS])\n",
    "\n",
    "            # 6. Lemmatization\n",
    "            lemmatizer = WordNetLemmatizer()\n",
    "            wordnet_map = {\"N\": wordnet.NOUN, \"V\": wordnet.VERB,\n",
    "                           \"J\": wordnet.ADJ, \"R\": wordnet.ADV}\n",
    "            pos_tagged_text = nltk.pos_tag(text_wo_stop.split())\n",
    "            text_lemmatized = \" \".join([lemmatizer.lemmatize(word, wordnet_map.get(\n",
    "                pos[0], wordnet.NOUN)) for word, pos in pos_tagged_text])\n",
    "\n",
    "            # 7. Removal of URLs\n",
    "            url_pattern = re.compile(r'https?://\\S+|www\\.\\S+')\n",
    "            text_wo_urls = url_pattern.sub(r'', text_lemmatized)\n",
    "\n",
    "#             # 8. Spell Checking\n",
    "#             spell = SpellChecker()\n",
    "#             def correct_spellings(text):\n",
    "#                 corrected_text = []\n",
    "#                 misspelled_words = spell.unknown(text.split())\n",
    "#                 for word in text.split():\n",
    "#                     if word in misspelled_words:\n",
    "#                         corrected_text.append(spell.correction(word))\n",
    "#                     else:\n",
    "#                         corrected_text.append(word)\n",
    "#                 return \" \".join(corrected_text)\n",
    "\n",
    "#             text_with_spellchk = correct_spellings(text_wo_urls)\n",
    "\n",
    "            # Append the Post, Gender and Star to the list\n",
    "            data_in_list.append([text_wo_urls, gender, star])"
   ]
  },
  {
   "cell_type": "code",
   "execution_count": 6,
   "metadata": {
    "ExecuteTime": {
     "end_time": "2020-02-05T11:32:09.520439Z",
     "start_time": "2020-02-05T11:32:09.178565Z"
    }
   },
   "outputs": [],
   "source": [
    "# Create a dataframe of the generated data\n",
    "df = pd.DataFrame(data_in_list, columns=['post', 'gender', 'star'])"
   ]
  },
  {
   "cell_type": "code",
   "execution_count": 7,
   "metadata": {
    "ExecuteTime": {
     "end_time": "2020-02-05T11:32:18.317619Z",
     "start_time": "2020-02-05T11:32:09.524592Z"
    }
   },
   "outputs": [],
   "source": [
    "# Save data locally in the format of a CSV\n",
    "df.to_csv('./data/processed_data.csv', header=True, index=None)"
   ]
  },
  {
   "cell_type": "markdown",
   "metadata": {},
   "source": [
    "# Section 2: Analysis"
   ]
  },
  {
   "cell_type": "markdown",
   "metadata": {},
   "source": [
    "In this section we do some simple analysis of the data"
   ]
  },
  {
   "cell_type": "code",
   "execution_count": 1,
   "metadata": {
    "ExecuteTime": {
     "end_time": "2020-02-06T10:51:44.302373Z",
     "start_time": "2020-02-06T10:51:43.236578Z"
    }
   },
   "outputs": [],
   "source": [
    "import pandas as pd\n",
    "import numpy as np\n",
    "import matplotlib.pyplot as plt\n",
    "import seaborn as sns\n",
    "from wordcloud import WordCloud\n",
    "from nltk.corpus import stopwords\n",
    "stop = set(stopwords.words('english'))"
   ]
  },
  {
   "cell_type": "code",
   "execution_count": 43,
   "metadata": {
    "ExecuteTime": {
     "end_time": "2020-02-07T07:59:48.446467Z",
     "start_time": "2020-02-07T07:59:48.437978Z"
    }
   },
   "outputs": [],
   "source": [
    "# Path to the above generated csv\n",
    "path_to_csv = \"./data/processed_data.csv\""
   ]
  },
  {
   "cell_type": "code",
   "execution_count": 44,
   "metadata": {
    "ExecuteTime": {
     "end_time": "2020-02-07T07:59:53.935436Z",
     "start_time": "2020-02-07T07:59:48.589459Z"
    }
   },
   "outputs": [],
   "source": [
    "# Load the data\n",
    "data = pd.read_csv(path_to_csv)\n",
    "\n",
    "# Drop 'nan' rows\n",
    "data.dropna(inplace=True)"
   ]
  },
  {
   "cell_type": "code",
   "execution_count": 4,
   "metadata": {
    "ExecuteTime": {
     "end_time": "2020-02-06T10:51:48.965219Z",
     "start_time": "2020-02-06T10:51:48.956004Z"
    }
   },
   "outputs": [
    {
     "name": "stdout",
     "output_type": "stream",
     "text": [
      "Input data columns: Index(['post', 'gender', 'star'], dtype='object')\n",
      "Number of samples: 590966\n"
     ]
    }
   ],
   "source": [
    "# Print Samples\n",
    "print(f\"Input data columns: {data.columns}\")\n",
    "print(f\"Number of samples: {len(data)}\")"
   ]
  },
  {
   "cell_type": "code",
   "execution_count": 5,
   "metadata": {
    "ExecuteTime": {
     "end_time": "2020-02-06T10:51:49.242735Z",
     "start_time": "2020-02-06T10:51:48.968052Z"
    }
   },
   "outputs": [
    {
     "data": {
      "text/plain": [
       "Text(0, 0.5, 'samples')"
      ]
     },
     "execution_count": 5,
     "metadata": {},
     "output_type": "execute_result"
    },
    {
     "data": {
      "image/png": "[encoded data removed]",
      "text/plain": [
       "<Figure size 432x288 with 1 Axes>"
      ]
     },
     "metadata": {
      "needs_background": "light"
     },
     "output_type": "display_data"
    }
   ],
   "source": [
    "# Plot against Gender\n",
    "\n",
    "x = data.gender.value_counts()\n",
    "sns.barplot(x.index, x)\n",
    "plt.gca().set_ylabel('samples')"
   ]
  },
  {
   "cell_type": "code",
   "execution_count": 6,
   "metadata": {
    "ExecuteTime": {
     "end_time": "2020-02-06T10:51:49.344573Z",
     "start_time": "2020-02-06T10:51:49.245087Z"
    }
   },
   "outputs": [
    {
     "data": {
      "text/plain": [
       "male      303052\n",
       "female    287914\n",
       "Name: gender, dtype: int64"
      ]
     },
     "execution_count": 6,
     "metadata": {},
     "output_type": "execute_result"
    }
   ],
   "source": [
    "# Gender Value Count\n",
    "data['gender'].value_counts()"
   ]
  },
  {
   "cell_type": "code",
   "execution_count": 7,
   "metadata": {
    "ExecuteTime": {
     "end_time": "2020-02-06T10:51:49.722227Z",
     "start_time": "2020-02-06T10:51:49.347234Z"
    }
   },
   "outputs": [
    {
     "data": {
      "text/plain": [
       "(array([ 0,  1,  2,  3,  4,  5,  6,  7,  8,  9, 10, 11]),\n",
       " <a list of 12 Text xticklabel objects>)"
      ]
     },
     "execution_count": 7,
     "metadata": {},
     "output_type": "execute_result"
    },
    {
     "data": {
      "image/png": "[encoded data removed]",
      "text/plain": [
       "<Figure size 432x288 with 1 Axes>"
      ]
     },
     "metadata": {
      "needs_background": "light"
     },
     "output_type": "display_data"
    }
   ],
   "source": [
    "# Plot against Horoscopic Star\n",
    "\n",
    "x = data.star.value_counts()\n",
    "sns.barplot(x.index, x)\n",
    "plt.gca().set_ylabel('samples')\n",
    "plt.xticks(rotation=45)"
   ]
  },
  {
   "cell_type": "code",
   "execution_count": 8,
   "metadata": {
    "ExecuteTime": {
     "end_time": "2020-02-06T10:51:49.812661Z",
     "start_time": "2020-02-06T10:51:49.725639Z"
    }
   },
   "outputs": [
    {
     "data": {
      "text/plain": [
       "Aries          58641\n",
       "Cancer         55404\n",
       "Taurus         54625\n",
       "Libra          52660\n",
       "Virgo          52643\n",
       "Scorpio        49634\n",
       "Pisces         46837\n",
       "Leo            46816\n",
       "Gemini         44617\n",
       "Aquarius       43600\n",
       "Sagittarius    43462\n",
       "Capricorn      42027\n",
       "Name: star, dtype: int64"
      ]
     },
     "execution_count": 8,
     "metadata": {},
     "output_type": "execute_result"
    }
   ],
   "source": [
    "# Star Value Count\n",
    "data['star'].value_counts()"
   ]
  },
  {
   "cell_type": "code",
   "execution_count": 9,
   "metadata": {
    "ExecuteTime": {
     "end_time": "2020-02-06T10:51:50.560779Z",
     "start_time": "2020-02-06T10:51:49.815184Z"
    }
   },
   "outputs": [
    {
     "data": {
      "image/png": "[encoded data removed]",
      "text/plain": [
       "<Figure size 432x288 with 1 Axes>"
      ]
     },
     "metadata": {
      "needs_background": "light"
     },
     "output_type": "display_data"
    }
   ],
   "source": [
    "# Create a Word Cloud\n",
    "def cloud(text):\n",
    "    wordcloud = WordCloud(background_color=\"black\", stopwords=stop).generate(\n",
    "        \" \".join([i for i in text.str.upper()]))\n",
    "    plt.imshow(wordcloud)\n",
    "    plt.axis(\"off\")\n",
    "    plt.title(\"Post\")\n",
    "\n",
    "\n",
    "# Make a word cloud for first 500 posts\n",
    "cloud(data['post'][:500])"
   ]
  },
  {
   "cell_type": "markdown",
   "metadata": {},
   "source": [
    "# Section 3: Model"
   ]
  },
  {
   "cell_type": "markdown",
   "metadata": {},
   "source": [
    "Once we have our data in a dataframe, we are ready to do the further processing.\n",
    "\n",
    "1. <strong>Further Processing</strong>\n",
    "  \n",
    "  - We use the `LabelEncoder` class from `sklearn.preprocessing` to encode the labels into integer form. We do encoding for both `star` and `gender`.\n",
    "  \n",
    "  - After getting the values from the dataframe, we `one-hot-encode` all the labels. Why? Because assigning raw ints to the labels adds bias to them. 1 < 7. So the class '1' will have less impact over other labels.\n",
    "  \n",
    "  - After that we make a `train_test_split`. Note that i'm only using 20,000 data points because of the low end machine i'm using. It takes around 55 minutes per epoch if i try to train the model on ~500,000 data points. We make a split of 80:20 ratio for train_test data. We also set a `random_state` to reproduce the results.\n",
    "  \n",
    "  - The next step is to get the posts from the dataframe and `tokenize` them. We use the `Tokenizer` from `tensorflow.keras.preprocessing.text` for the purpose. After making an instance of the `Tokenizer` class, we tokenize the data present in `train_data` and `test_data`. We also get the `vocab_size` as it will be used latter on in the training of the model.\n",
    "  \n",
    "  - We then set a `max_len` variable which sets a fixed length for every post found. Using this max_len variable, we then simply pad the sequence to be of equal size. For pedding we use `pad_sequences` from `tensorflow.keras.preprocessing.sequence`.\n",
    "  \n",
    "  \n",
    "2. <strong>Model Construction</strong>\n",
    "\n",
    "  - In this phase we create a simple `Sequential` model.\n",
    "    - We first add an `Embedding` layer to our Sequential model. The purpose of embedding layer is to convert all of the positive integers to fixed length vectors. We provide and `input_size` of `vocab_size` we declared above. We also define the `input_length` which is equal to the `max_len` variable.\n",
    "    \n",
    "    - We then add 3 `Dense` layers starting from 128 neurons decending down to 32 neurons with the activation of `relu`\n",
    "    \n",
    "    - We add a `Dropout` layer for the purpose of `regularization`.\n",
    "    \n",
    "    - We add a `Flatten` layer to flat out the output.\n",
    "    \n",
    "    - We then have 2 `Dense` Layers which we will use for classification.\n",
    "  - We then compile this model using `adam` as `optimizer` and `categorical_crossentropy` as the loss function.\n",
    "  \n",
    "  - We then simply create a checkpoints directory in which the model's checkpoints will be saved. We also set callbacks. We use `ModelCheckpoint` to save the models and `EarlyStopping` to stop the training to avoide over fitting. We then return the model along with the callbacks list.\n",
    "\n",
    "  - We then train the model for 20 epochs with a bath size of 10.\n",
    "  \n",
    "  - After the training we plot the training history of the model."
   ]
  },
  {
   "cell_type": "code",
   "execution_count": 10,
   "metadata": {
    "ExecuteTime": {
     "end_time": "2020-02-06T10:51:54.650732Z",
     "start_time": "2020-02-06T10:51:53.212308Z"
    }
   },
   "outputs": [],
   "source": [
    "# Import required libararies\n",
    "from os import makedirs\n",
    "from tensorflow.keras.preprocessing.text import Tokenizer\n",
    "from tensorflow.keras.preprocessing.sequence import pad_sequences\n",
    "from sklearn.model_selection import train_test_split\n",
    "from sklearn.preprocessing import LabelEncoder, OneHotEncoder\n",
    "from tensorflow.keras.models import Sequential\n",
    "from tensorflow.keras import layers\n",
    "from tensorflow.keras.callbacks import ModelCheckpoint, EarlyStopping"
   ]
  },
  {
   "cell_type": "code",
   "execution_count": 11,
   "metadata": {
    "ExecuteTime": {
     "end_time": "2020-02-06T10:51:54.959346Z",
     "start_time": "2020-02-06T10:51:54.653585Z"
    }
   },
   "outputs": [
    {
     "data": {
      "text/html": [
       "<div>\n",
       "<style scoped>\n",
       "    .dataframe tbody tr th:only-of-type {\n",
       "        vertical-align: middle;\n",
       "    }\n",
       "\n",
       "    .dataframe tbody tr th {\n",
       "        vertical-align: top;\n",
       "    }\n",
       "\n",
       "    .dataframe thead th {\n",
       "        text-align: right;\n",
       "    }\n",
       "</style>\n",
       "<table border=\"1\" class=\"dataframe\">\n",
       "  <thead>\n",
       "    <tr style=\"text-align: right;\">\n",
       "      <th></th>\n",
       "      <th>post</th>\n",
       "      <th>gender</th>\n",
       "      <th>star</th>\n",
       "      <th>star_labels</th>\n",
       "      <th>gender_labels</th>\n",
       "    </tr>\n",
       "  </thead>\n",
       "  <tbody>\n",
       "    <tr>\n",
       "      <th>0</th>\n",
       "      <td>procrastination procrastination n l procrastin...</td>\n",
       "      <td>female</td>\n",
       "      <td>Pisces</td>\n",
       "      <td>7</td>\n",
       "      <td>0</td>\n",
       "    </tr>\n",
       "    <tr>\n",
       "      <th>1</th>\n",
       "      <td>writer people sit write hazard every time comp...</td>\n",
       "      <td>female</td>\n",
       "      <td>Pisces</td>\n",
       "      <td>7</td>\n",
       "      <td>0</td>\n",
       "    </tr>\n",
       "    <tr>\n",
       "      <th>2</th>\n",
       "      <td>grrwriters block much pressure since first blo...</td>\n",
       "      <td>female</td>\n",
       "      <td>Pisces</td>\n",
       "      <td>7</td>\n",
       "      <td>0</td>\n",
       "    </tr>\n",
       "    <tr>\n",
       "      <th>3</th>\n",
       "      <td>awhile sister move back house little ago effor...</td>\n",
       "      <td>female</td>\n",
       "      <td>Pisces</td>\n",
       "      <td>7</td>\n",
       "      <td>0</td>\n",
       "    </tr>\n",
       "    <tr>\n",
       "      <th>4</th>\n",
       "      <td>happen associate certain sound smells place ev...</td>\n",
       "      <td>female</td>\n",
       "      <td>Pisces</td>\n",
       "      <td>7</td>\n",
       "      <td>0</td>\n",
       "    </tr>\n",
       "  </tbody>\n",
       "</table>\n",
       "</div>"
      ],
      "text/plain": [
       "                                                post  gender    star  \\\n",
       "0  procrastination procrastination n l procrastin...  female  Pisces   \n",
       "1  writer people sit write hazard every time comp...  female  Pisces   \n",
       "2  grrwriters block much pressure since first blo...  female  Pisces   \n",
       "3  awhile sister move back house little ago effor...  female  Pisces   \n",
       "4  happen associate certain sound smells place ev...  female  Pisces   \n",
       "\n",
       "   star_labels  gender_labels  \n",
       "0            7              0  \n",
       "1            7              0  \n",
       "2            7              0  \n",
       "3            7              0  \n",
       "4            7              0  "
      ]
     },
     "execution_count": 11,
     "metadata": {},
     "output_type": "execute_result"
    }
   ],
   "source": [
    "# Encode the labels (Simple Label Encoding)\n",
    "encoder = LabelEncoder()\n",
    "\n",
    "# Encode the star\n",
    "data['star_labels'] = encoder.fit_transform(data['star'])\n",
    "\n",
    "# Encode the gender\n",
    "data['gender_labels'] = encoder.fit_transform(data['gender'])\n",
    "data.head()"
   ]
  },
  {
   "cell_type": "code",
   "execution_count": 12,
   "metadata": {
    "ExecuteTime": {
     "end_time": "2020-02-06T09:26:58.787298Z",
     "start_time": "2020-02-06T09:26:58.783140Z"
    }
   },
   "outputs": [],
   "source": [
    "# Get the datapoints and corresponding labels from the dataframe\n",
    "data_points = data['post'].values\n",
    "labels = data['labels'].values"
   ]
  },
  {
   "cell_type": "code",
   "execution_count": 13,
   "metadata": {
    "ExecuteTime": {
     "end_time": "2020-02-06T09:26:58.900029Z",
     "start_time": "2020-02-06T09:26:58.789229Z"
    }
   },
   "outputs": [],
   "source": [
    "# One hot encode the labels\n",
    "\n",
    "# Reshape from (n_samples,) to (n_samples, 1)\n",
    "labels = labels.reshape((labels.shape[0], 1))\n",
    "\n",
    "# Make OneHotEncoder object\n",
    "one_hot_encoder = OneHotEncoder(sparse=False)\n",
    "\n",
    "# OneHotEncode the labels\n",
    "labels = one_hot_encoder.fit_transform(labels)"
   ]
  },
  {
   "cell_type": "code",
   "execution_count": 14,
   "metadata": {
    "ExecuteTime": {
     "end_time": "2020-02-06T09:26:58.913833Z",
     "start_time": "2020-02-06T09:26:58.902742Z"
    }
   },
   "outputs": [],
   "source": [
    "# Split the data into train_test set\n",
    "train_data, test_data, train_labels, test_labels = train_test_split(\n",
    "    data_points[:20000], labels[:20000], test_size=0.2, random_state=42)"
   ]
  },
  {
   "cell_type": "code",
   "execution_count": 15,
   "metadata": {
    "ExecuteTime": {
     "end_time": "2020-02-06T09:27:02.805953Z",
     "start_time": "2020-02-06T09:26:58.919476Z"
    }
   },
   "outputs": [],
   "source": [
    "# Tokenize the data\n",
    "tokenizer = Tokenizer()\n",
    "\n",
    "# Fit on train_data\n",
    "tokenizer.fit_on_texts(train_data)\n",
    "\n",
    "# Convert the tokens to sequences\n",
    "train_data = tokenizer.texts_to_sequences(train_data)\n",
    "test_data = tokenizer.texts_to_sequences(test_data)\n",
    "\n",
    "# Get the Vocab Size\n",
    "vocab_size = len(tokenizer.word_index) + 1"
   ]
  },
  {
   "cell_type": "code",
   "execution_count": 16,
   "metadata": {
    "ExecuteTime": {
     "end_time": "2020-02-06T09:27:03.157650Z",
     "start_time": "2020-02-06T09:27:02.807696Z"
    }
   },
   "outputs": [],
   "source": [
    "# Pad the sequence to make all of same length\n",
    "max_len = 250\n",
    "\n",
    "train_data = pad_sequences(train_data, padding='post', maxlen=max_len)\n",
    "test_data = pad_sequences(test_data, padding='post', maxlen=max_len)"
   ]
  },
  {
   "cell_type": "code",
   "execution_count": 17,
   "metadata": {
    "ExecuteTime": {
     "end_time": "2020-02-06T09:27:03.172318Z",
     "start_time": "2020-02-06T09:27:03.160047Z"
    }
   },
   "outputs": [],
   "source": [
    "def my_model(vocab_size, input_length, num_classes):\n",
    "\n",
    "    # Sequential Model\n",
    "    model = Sequential()\n",
    "\n",
    "    # Add an Embedding layer to convert Positive integers to fixed size vectors\n",
    "    model.add(layers.Embedding(input_dim=vocab_size,\n",
    "                               output_dim=100,\n",
    "                               input_length=input_length))\n",
    "\n",
    "    # Add Dense Layers\n",
    "    model.add(layers.Dense(128, activation='relu'))\n",
    "    model.add(layers.Dense(64, activation='relu'))\n",
    "    model.add(layers.Dense(32, activation='relu'))\n",
    "\n",
    "    # Add Dropout for regularization\n",
    "    model.add(layers.Dropout(0.4))\n",
    "\n",
    "    # Flat the output\n",
    "    model.add(layers.Flatten())\n",
    "\n",
    "    model.add(layers.Dense(10, activation='relu'))\n",
    "    model.add(layers.Dropout(0.3))\n",
    "\n",
    "    # Classification Layer with Sigmoid Activation\n",
    "    model.add(layers.Dense(num_classes, activation='sigmoid'))\n",
    "\n",
    "    # Compile the model\n",
    "    model.compile(optimizer='adam',\n",
    "                  loss='categorical_crossentropy',\n",
    "                  metrics=['accuracy'])\n",
    "\n",
    "    # Print the summary of the model\n",
    "    print(model.summary())\n",
    "\n",
    "    # Create checkpoints directories\n",
    "    try:\n",
    "        # If directory not found\n",
    "        makedirs(f\"./checkpoints\")\n",
    "    except Exception as e:\n",
    "        # If directory already exists\n",
    "        pass\n",
    "\n",
    "    # Define Model checkpoints and callbacks_list\n",
    "    filepath = \"./checkpoints/weights-improvement-{epoch:02d}-{val_accuracy:.2f}.hdf5\"\n",
    "    checkpoint = ModelCheckpoint(\n",
    "        filepath, monitor='val_accuracy', verbose=1, save_best_only=True, mode='max')\n",
    "    callbacks_list = [EarlyStopping(\n",
    "        monitor='val_accuracy', patience=5), checkpoint]\n",
    "\n",
    "    return model, callbacks_list"
   ]
  },
  {
   "cell_type": "code",
   "execution_count": 21,
   "metadata": {
    "ExecuteTime": {
     "end_time": "2020-02-06T09:32:24.711069Z",
     "start_time": "2020-02-06T09:32:24.351730Z"
    }
   },
   "outputs": [
    {
     "name": "stdout",
     "output_type": "stream",
     "text": [
      "Model: \"sequential_1\"\n",
      "_________________________________________________________________\n",
      "Layer (type)                 Output Shape              Param #   \n",
      "=================================================================\n",
      "embedding_1 (Embedding)      (None, 250, 100)          9749000   \n",
      "_________________________________________________________________\n",
      "dense_5 (Dense)              (None, 250, 128)          12928     \n",
      "_________________________________________________________________\n",
      "dense_6 (Dense)              (None, 250, 64)           8256      \n",
      "_________________________________________________________________\n",
      "dense_7 (Dense)              (None, 250, 32)           2080      \n",
      "_________________________________________________________________\n",
      "dropout_2 (Dropout)          (None, 250, 32)           0         \n",
      "_________________________________________________________________\n",
      "flatten_1 (Flatten)          (None, 8000)              0         \n",
      "_________________________________________________________________\n",
      "dense_8 (Dense)              (None, 10)                80010     \n",
      "_________________________________________________________________\n",
      "dropout_3 (Dropout)          (None, 10)                0         \n",
      "_________________________________________________________________\n",
      "dense_9 (Dense)              (None, 12)                132       \n",
      "=================================================================\n",
      "Total params: 9,852,406\n",
      "Trainable params: 9,852,406\n",
      "Non-trainable params: 0\n",
      "_________________________________________________________________\n",
      "None\n"
     ]
    }
   ],
   "source": [
    "# Get the model and callbacks_list\n",
    "model, callbacks_list = my_model(vocab_size, max_len, train_labels.shape[1])"
   ]
  },
  {
   "cell_type": "code",
   "execution_count": 22,
   "metadata": {
    "ExecuteTime": {
     "end_time": "2020-02-06T10:28:57.740495Z",
     "start_time": "2020-02-06T09:32:35.508567Z"
    },
    "scrolled": true
   },
   "outputs": [
    {
     "name": "stdout",
     "output_type": "stream",
     "text": [
      "Train on 16000 samples, validate on 4000 samples\n",
      "Epoch 1/20\n",
      "15990/16000 [============================>.] - ETA: 0s - loss: 2.4257 - accuracy: 0.1335\n",
      "Epoch 00001: val_accuracy improved from -inf to 0.15475, saving model to ./checkpoints/weights-improvement-01-0.15.hdf5\n",
      "16000/16000 [==============================] - 241s 15ms/sample - loss: 2.4258 - accuracy: 0.1335 - val_loss: 2.3588 - val_accuracy: 0.1548\n",
      "Epoch 2/20\n",
      "15990/16000 [============================>.] - ETA: 0s - loss: 2.3166 - accuracy: 0.1683\n",
      "Epoch 00002: val_accuracy improved from 0.15475 to 0.19525, saving model to ./checkpoints/weights-improvement-02-0.20.hdf5\n",
      "16000/16000 [==============================] - 223s 14ms/sample - loss: 2.3166 - accuracy: 0.1684 - val_loss: 2.2888 - val_accuracy: 0.1953\n",
      "Epoch 3/20\n",
      "15990/16000 [============================>.] - ETA: 0s - loss: 2.2094 - accuracy: 0.1899\n",
      "Epoch 00003: val_accuracy did not improve from 0.19525\n",
      "16000/16000 [==============================] - 224s 14ms/sample - loss: 2.2092 - accuracy: 0.1899 - val_loss: 2.2553 - val_accuracy: 0.1930\n",
      "Epoch 4/20\n",
      "15990/16000 [============================>.] - ETA: 0s - loss: 2.1155 - accuracy: 0.2057\n",
      "Epoch 00004: val_accuracy improved from 0.19525 to 0.20750, saving model to ./checkpoints/weights-improvement-04-0.21.hdf5\n",
      "16000/16000 [==============================] - 222s 14ms/sample - loss: 2.1151 - accuracy: 0.2057 - val_loss: 2.2533 - val_accuracy: 0.2075\n",
      "Epoch 5/20\n",
      "15990/16000 [============================>.] - ETA: 0s - loss: 2.0335 - accuracy: 0.2238\n",
      "Epoch 00005: val_accuracy did not improve from 0.20750\n",
      "16000/16000 [==============================] - 217s 14ms/sample - loss: 2.0335 - accuracy: 0.2237 - val_loss: 2.2645 - val_accuracy: 0.2055\n",
      "Epoch 6/20\n",
      "15990/16000 [============================>.] - ETA: 0s - loss: 1.9681 - accuracy: 0.2435\n",
      "Epoch 00006: val_accuracy did not improve from 0.20750\n",
      "16000/16000 [==============================] - 221s 14ms/sample - loss: 1.9686 - accuracy: 0.2434 - val_loss: 2.3133 - val_accuracy: 0.2070\n",
      "Epoch 7/20\n",
      "15990/16000 [============================>.] - ETA: 0s - loss: 1.8840 - accuracy: 0.2852\n",
      "Epoch 00007: val_accuracy improved from 0.20750 to 0.24000, saving model to ./checkpoints/weights-improvement-07-0.24.hdf5\n",
      "16000/16000 [==============================] - 226s 14ms/sample - loss: 1.8839 - accuracy: 0.2852 - val_loss: 2.3771 - val_accuracy: 0.2400\n",
      "Epoch 8/20\n",
      "15990/16000 [============================>.] - ETA: 0s - loss: 1.8170 - accuracy: 0.3157\n",
      "Epoch 00008: val_accuracy improved from 0.24000 to 0.24225, saving model to ./checkpoints/weights-improvement-08-0.24.hdf5\n",
      "16000/16000 [==============================] - 229s 14ms/sample - loss: 1.8168 - accuracy: 0.3158 - val_loss: 2.3483 - val_accuracy: 0.2422\n",
      "Epoch 9/20\n",
      "15990/16000 [============================>.] - ETA: 0s - loss: 1.7470 - accuracy: 0.3375\n",
      "Epoch 00009: val_accuracy improved from 0.24225 to 0.24825, saving model to ./checkpoints/weights-improvement-09-0.25.hdf5\n",
      "16000/16000 [==============================] - 228s 14ms/sample - loss: 1.7469 - accuracy: 0.3374 - val_loss: 2.4097 - val_accuracy: 0.2482\n",
      "Epoch 10/20\n",
      "15990/16000 [============================>.] - ETA: 0s - loss: 1.6793 - accuracy: 0.3667\n",
      "Epoch 00010: val_accuracy improved from 0.24825 to 0.25550, saving model to ./checkpoints/weights-improvement-10-0.26.hdf5\n",
      "16000/16000 [==============================] - 231s 14ms/sample - loss: 1.6795 - accuracy: 0.3666 - val_loss: 2.4999 - val_accuracy: 0.2555\n",
      "Epoch 11/20\n",
      "15990/16000 [============================>.] - ETA: 0s - loss: nan - accuracy: 0.0757\n",
      "Epoch 00011: val_accuracy did not improve from 0.25550\n",
      "16000/16000 [==============================] - 228s 14ms/sample - loss: nan - accuracy: 0.0758 - val_loss: nan - val_accuracy: 0.0475\n",
      "Epoch 12/20\n",
      "15990/16000 [============================>.] - ETA: 0s - loss: nan - accuracy: 0.0512\n",
      "Epoch 00012: val_accuracy did not improve from 0.25550\n",
      "16000/16000 [==============================] - 228s 14ms/sample - loss: nan - accuracy: 0.0512 - val_loss: nan - val_accuracy: 0.0475\n",
      "Epoch 13/20\n",
      "15990/16000 [============================>.] - ETA: 0s - loss: nan - accuracy: 0.0512\n",
      "Epoch 00013: val_accuracy did not improve from 0.25550\n",
      "16000/16000 [==============================] - 220s 14ms/sample - loss: nan - accuracy: 0.0512 - val_loss: nan - val_accuracy: 0.0475\n",
      "Epoch 14/20\n",
      "15990/16000 [============================>.] - ETA: 0s - loss: nan - accuracy: 0.0512\n",
      "Epoch 00014: val_accuracy did not improve from 0.25550\n",
      "16000/16000 [==============================] - 222s 14ms/sample - loss: nan - accuracy: 0.0512 - val_loss: nan - val_accuracy: 0.0475\n",
      "Epoch 15/20\n",
      "15990/16000 [============================>.] - ETA: 0s - loss: nan - accuracy: 0.0512\n",
      "Epoch 00015: val_accuracy did not improve from 0.25550\n",
      "16000/16000 [==============================] - 222s 14ms/sample - loss: nan - accuracy: 0.0512 - val_loss: nan - val_accuracy: 0.0475\n"
     ]
    }
   ],
   "source": [
    "# Train the model\n",
    "history = model.fit(train_data, train_labels,\n",
    "                    epochs=20,\n",
    "                    verbose=True,\n",
    "                    validation_data=(test_data, test_labels),\n",
    "                    batch_size=10,\n",
    "                    callbacks=callbacks_list)"
   ]
  },
  {
   "cell_type": "code",
   "execution_count": 23,
   "metadata": {
    "ExecuteTime": {
     "end_time": "2020-02-06T10:28:57.772524Z",
     "start_time": "2020-02-06T10:28:57.742980Z"
    }
   },
   "outputs": [],
   "source": [
    "# For plotting\n",
    "import matplotlib.pyplot as plt"
   ]
  },
  {
   "cell_type": "code",
   "execution_count": 24,
   "metadata": {
    "ExecuteTime": {
     "end_time": "2020-02-06T10:28:58.300498Z",
     "start_time": "2020-02-06T10:28:57.780831Z"
    }
   },
   "outputs": [
    {
     "data": {
      "image/png": "[encoded data removed]",
      "text/plain": [
       "<Figure size 432x288 with 2 Axes>"
      ]
     },
     "metadata": {
      "needs_background": "light"
     },
     "output_type": "display_data"
    }
   ],
   "source": [
    "# Plot the history\n",
    "_, (ax1, ax2) = plt.subplots(2)\n",
    "ax1.plot(history.history['accuracy'])\n",
    "ax1.plot(history.history['val_accuracy'])\n",
    "ax1.set_title(f'model_accuracy')\n",
    "ax1.set_ylabel('accuracy')\n",
    "ax1.set_xlabel('epoch')\n",
    "ax1.legend(['train', 'test'], loc='best')\n",
    "ax2.plot(history.history['loss'])\n",
    "ax2.plot(history.history['val_loss'])\n",
    "ax2.set_title(f'model_loss')\n",
    "ax2.set_ylabel('loss')\n",
    "ax2.set_xlabel('epoch')\n",
    "ax2.legend(['train', 'test'], loc='best')\n",
    "plt.tight_layout()"
   ]
  },
  {
   "cell_type": "markdown",
   "metadata": {},
   "source": [
    "# Section 4: Predictions"
   ]
  },
  {
   "cell_type": "markdown",
   "metadata": {},
   "source": [
    "After the training, we are ready to make predictions.\n",
    "We load the locally saved model in the checkpoints directory. We then use the model's `predict` function to predict the test set."
   ]
  },
  {
   "cell_type": "code",
   "execution_count": 25,
   "metadata": {
    "ExecuteTime": {
     "end_time": "2020-02-06T10:43:04.702059Z",
     "start_time": "2020-02-06T10:43:04.697933Z"
    }
   },
   "outputs": [],
   "source": [
    "from tensorflow.keras.models import load_model"
   ]
  },
  {
   "cell_type": "code",
   "execution_count": 26,
   "metadata": {
    "ExecuteTime": {
     "end_time": "2020-02-06T10:43:23.543114Z",
     "start_time": "2020-02-06T10:43:22.203442Z"
    }
   },
   "outputs": [],
   "source": [
    "path_to_model = \"./checkpoints/weights-improvement-10-0.26.hdf5\"\n",
    "model = load_model(path_to_model)"
   ]
  },
  {
   "cell_type": "code",
   "execution_count": 28,
   "metadata": {
    "ExecuteTime": {
     "end_time": "2020-02-06T10:43:52.463646Z",
     "start_time": "2020-02-06T10:43:48.383302Z"
    }
   },
   "outputs": [],
   "source": [
    "# Make predicions\n",
    "Y_pred = model.predict(test_data)\n",
    "y_pred = np.argmax(Y_pred, axis=1)"
   ]
  },
  {
   "cell_type": "markdown",
   "metadata": {},
   "source": [
    "# Section 5: Evaluation"
   ]
  },
  {
   "cell_type": "markdown",
   "metadata": {},
   "source": [
    "Using the predictions, We evaluate our model using the `Confusion Matrix` and `Classification Report`"
   ]
  },
  {
   "cell_type": "code",
   "execution_count": 29,
   "metadata": {
    "ExecuteTime": {
     "end_time": "2020-02-06T10:44:11.863305Z",
     "start_time": "2020-02-06T10:44:11.851799Z"
    }
   },
   "outputs": [],
   "source": [
    "from sklearn.metrics import classification_report, confusion_matrix"
   ]
  },
  {
   "cell_type": "code",
   "execution_count": 39,
   "metadata": {
    "ExecuteTime": {
     "end_time": "2020-02-06T10:46:19.139026Z",
     "start_time": "2020-02-06T10:46:19.120085Z"
    }
   },
   "outputs": [
    {
     "name": "stdout",
     "output_type": "stream",
     "text": [
      "Confusion Matrix:\n",
      "\n",
      "[[ 21   0  15   6   2  13  35   0   0  76   3  19]\n",
      " [  8   0  21  11   5  21  58   0   0  65   1  29]\n",
      " [ 14   0 164   5  48  52  67   0   0 121   4  29]\n",
      " [ 18   0  24  45   3  23 105   0   0  73  11  49]\n",
      " [  5   0  83   3 223  50  31   0   0  80   2  11]\n",
      " [  1   0  51   6  10 114 128   0   0  66   2  20]\n",
      " [ 13   0  17  15   7  72 200   0   0  73   4  35]\n",
      " [  8   0  10   9   1  26  67   0   0  49   4  38]\n",
      " [  8   0  23   2   1  16  53   0   0  59   2  19]\n",
      " [  8   1  48  15   6  42  66   0   0 120   4  36]\n",
      " [  3   0  13   8   1  15  33   0   0  49  83  33]\n",
      " [ 20   0  38  17   7  42 145   0   0 104  10  52]]\n"
     ]
    }
   ],
   "source": [
    "print('Confusion Matrix:\\n')\n",
    "print(confusion_matrix(np.argmax(test_labels, axis=1), y_pred))"
   ]
  },
  {
   "cell_type": "code",
   "execution_count": 43,
   "metadata": {
    "ExecuteTime": {
     "end_time": "2020-02-06T10:47:53.620534Z",
     "start_time": "2020-02-06T10:47:53.535446Z"
    }
   },
   "outputs": [
    {
     "name": "stdout",
     "output_type": "stream",
     "text": [
      "Classification Report:\n",
      "\n",
      "              precision    recall  f1-score   support\n",
      "\n",
      "      Pisces       0.17      0.11      0.13       190\n",
      "       Virgo       0.00      0.00      0.00       219\n",
      "      Taurus       0.32      0.33      0.32       504\n",
      "      Gemini       0.32      0.13      0.18       351\n",
      "   Capricorn       0.71      0.46      0.56       488\n",
      "       Aries       0.23      0.29      0.26       398\n",
      "     Scorpio       0.20      0.46      0.28       436\n",
      "      Cancer       0.00      0.00      0.00       212\n",
      "    Aquarius       0.00      0.00      0.00       183\n",
      " Sagittarius       0.13      0.35      0.19       346\n",
      "         Leo       0.64      0.35      0.45       238\n",
      "       Libra       0.14      0.12      0.13       435\n",
      "\n",
      "    accuracy                           0.26      4000\n",
      "   macro avg       0.24      0.22      0.21      4000\n",
      "weighted avg       0.27      0.26      0.24      4000\n",
      "\n"
     ]
    },
    {
     "name": "stderr",
     "output_type": "stream",
     "text": [
      "/home/ibtihaj/anaconda3/envs/tf/lib/python3.7/site-packages/sklearn/metrics/_classification.py:1272: UndefinedMetricWarning: Precision and F-score are ill-defined and being set to 0.0 in labels with no predicted samples. Use `zero_division` parameter to control this behavior.\n",
      "  _warn_prf(average, modifier, msg_start, len(result))\n"
     ]
    }
   ],
   "source": [
    "print('Classification Report:\\n')\n",
    "target_names = list(data['star'].unique())\n",
    "print(classification_report(np.argmax(test_labels, axis=1),\n",
    "                            y_pred, target_names=target_names))"
   ]
  },
  {
   "cell_type": "markdown",
   "metadata": {},
   "source": [
    "# Conclusion"
   ]
  },
  {
   "cell_type": "markdown",
   "metadata": {},
   "source": [
    "Summary of the task is\n",
    "\n",
    "  - We get the XML file names.\n",
    "  - We Extract the gender and star from the file name.\n",
    "  - We open a file and load it's content.\n",
    "  - We determine the type of encoding of the content.\n",
    "  - We Parse the XML content with the determined encoding and find all the posts.\n",
    "  - For every post found, we apply text preprocessing steps.\n",
    "  - We append the processsed post along it's label and gender.\n",
    "  - We use that list to make a dataframe and store the data in it.\n",
    "  - We then locally store the csv file.\n",
    "  - We load the csv and do some analysis.\n",
    "  - We do some further processing to form the data in a format a deep learning model expects.\n",
    "  - We create a simple model\n",
    "  - We train the model and then evaluate it.\n",
    "  \n",
    "The results of the model can further be improved for more data and more number of epochs."
   ]
  },
  {
   "cell_type": "markdown",
   "metadata": {},
   "source": [
    "# Prediction for Arbisoft Evaluation"
   ]
  },
  {
   "cell_type": "code",
   "execution_count": 27,
   "metadata": {
    "ExecuteTime": {
     "end_time": "2020-02-07T07:54:18.222066Z",
     "start_time": "2020-02-07T07:54:18.201859Z"
    }
   },
   "outputs": [
    {
     "name": "stderr",
     "output_type": "stream",
     "text": [
      "[nltk_data] Downloading package stopwords to\n",
      "[nltk_data]     /home/ibtihaj/nltk_data...\n",
      "[nltk_data]   Package stopwords is already up-to-date!\n",
      "[nltk_data] Downloading package punkt to /home/ibtihaj/nltk_data...\n",
      "[nltk_data]   Package punkt is already up-to-date!\n",
      "[nltk_data] Downloading package wordnet to /home/ibtihaj/nltk_data...\n",
      "[nltk_data]   Package wordnet is already up-to-date!\n",
      "[nltk_data] Downloading package averaged_perceptron_tagger to\n",
      "[nltk_data]     /home/ibtihaj/nltk_data...\n",
      "[nltk_data]   Package averaged_perceptron_tagger is already up-to-\n",
      "[nltk_data]       date!\n"
     ]
    }
   ],
   "source": [
    "from tensorflow.keras.models import load_model\n",
    "from tensorflow.keras.preprocessing.sequence import pad_sequences\n",
    "from tensorflow.keras.preprocessing.text import Tokenizer\n",
    "import numpy as np\n",
    "from os import listdir\n",
    "from bs4 import BeautifulSoup\n",
    "import chardet\n",
    "from tqdm import tqdm\n",
    "import pandas as pd\n",
    "import re\n",
    "import string\n",
    "from nltk.stem import WordNetLemmatizer\n",
    "from nltk.tokenize import word_tokenize\n",
    "from nltk.corpus import stopwords, wordnet\n",
    "import nltk\n",
    "nltk.download('stopwords')\n",
    "nltk.download('punkt')\n",
    "nltk.download('wordnet')\n",
    "nltk.download('averaged_perceptron_tagger')"
   ]
  },
  {
   "cell_type": "code",
   "execution_count": 54,
   "metadata": {
    "ExecuteTime": {
     "end_time": "2020-02-07T08:02:05.980509Z",
     "start_time": "2020-02-07T08:02:05.942083Z"
    }
   },
   "outputs": [],
   "source": [
    "def predict(xml_file):\n",
    "    '''\n",
    "        This method assumes the data to be in a xml file just like the dataset. \n",
    "        It will load a model locally that was stored after training and use it to predict the class.\n",
    "    '''\n",
    "\n",
    "    # Star Classes\n",
    "    classes = ['Pisces', 'Virgo', 'Taurus', 'Gemini', 'Capricorn', 'Aries',\n",
    "               'Scorpio', 'Cancer', 'Aquarius', 'Sagittarius', 'Leo', 'Libra']\n",
    "\n",
    "    # Load the trained model saved locally\n",
    "    model = load_model(\"./checkpoints/weights-improvement-10-0.26.hdf5\")\n",
    "\n",
    "    # List to hold all the preprocessed posts\n",
    "    post_data = list()\n",
    "\n",
    "    # Load the file content\n",
    "    with open(xml_file, 'rb') as xml_fileObject:\n",
    "\n",
    "        # Get the content of the file\n",
    "        content = xml_fileObject.read()\n",
    "\n",
    "        # Detect the encoding\n",
    "        encoding = chardet.detect(content)\n",
    "\n",
    "        # Beautiful Soup to parse the XML\n",
    "        soup = BeautifulSoup(\n",
    "            content, 'xml', from_encoding=encoding['encoding'])\n",
    "\n",
    "        # Find all `post` tags\n",
    "        posts = soup.find_all('post')\n",
    "\n",
    "        # For every post found\n",
    "        for post in posts:\n",
    "\n",
    "            # Get the post text in `str` format\n",
    "            post_text = post.get_text()\n",
    "\n",
    "            # 1. LowerCase the text\n",
    "            text_lower = post_text.lower()\n",
    "\n",
    "            # 2. Remove Numbers\n",
    "            text_wo_numbers = re.sub(r'\\d+', '', text_lower)\n",
    "\n",
    "            # 3. Remove Punctuations\n",
    "            PUNCT_TO_REMOVE = string.punctuation\n",
    "            text_wo_punctuation = text_wo_numbers.translate(\n",
    "                str.maketrans('', '', PUNCT_TO_REMOVE))\n",
    "\n",
    "            # 4. Remove White Space\n",
    "            text_wo_whitespace = text_wo_punctuation.strip()\n",
    "\n",
    "            # 5. Remove Stop Words\n",
    "            STOPWORDS = set(stopwords.words('english'))\n",
    "            text_wo_stop = \" \".join([word for word in str(\n",
    "                text_wo_whitespace).split() if word not in STOPWORDS])\n",
    "\n",
    "            # 6. Lemmatization\n",
    "            lemmatizer = WordNetLemmatizer()\n",
    "            wordnet_map = {\"N\": wordnet.NOUN, \"V\": wordnet.VERB,\n",
    "                           \"J\": wordnet.ADJ, \"R\": wordnet.ADV}\n",
    "            pos_tagged_text = nltk.pos_tag(text_wo_stop.split())\n",
    "            text_lemmatized = \" \".join([lemmatizer.lemmatize(word, wordnet_map.get(\n",
    "                pos[0], wordnet.NOUN)) for word, pos in pos_tagged_text])\n",
    "\n",
    "            # 7. Removal of URLs\n",
    "            url_pattern = re.compile(r'https?://\\S+|www\\.\\S+')\n",
    "            text_wo_urls = url_pattern.sub(r'', text_lemmatized)\n",
    "\n",
    "            post_data.append(text_wo_urls)\n",
    "\n",
    "    # Cast to a numpy array\n",
    "    post_data = np.array(post_data)\n",
    "\n",
    "    # Create a tokenizer object\n",
    "    tokenizer = Tokenizer()\n",
    "\n",
    "    # Fit tokenizer on post_data\n",
    "    tokenizer.fit_on_texts(post_data)\n",
    "\n",
    "    # Convert to sequence\n",
    "    post_data = tokenizer.texts_to_sequences(post_data)\n",
    "\n",
    "    # Get the vocab size\n",
    "    vocab_size = len(tokenizer.word_index) + 1\n",
    "\n",
    "    # Pad the sequence (if required)\n",
    "    max_len = 250\n",
    "    post_data = pad_sequences(post_data, padding='post', maxlen=max_len)\n",
    "\n",
    "    # Make predictions\n",
    "    prediction = model.predict(post_data)\n",
    "    prediction = np.argmax(np.argmax(prediction, axis=1))\n",
    "    print(classes[prediction])"
   ]
  },
  {
   "cell_type": "code",
   "execution_count": 58,
   "metadata": {
    "ExecuteTime": {
     "end_time": "2020-02-07T08:02:21.232904Z",
     "start_time": "2020-02-07T08:02:21.228787Z"
    }
   },
   "outputs": [],
   "source": [
    "test = \"./data/blogs_train/1009572.male.25.indUnk.Cancer.xml\""
   ]
  },
  {
   "cell_type": "code",
   "execution_count": 59,
   "metadata": {
    "ExecuteTime": {
     "end_time": "2020-02-07T08:02:24.286405Z",
     "start_time": "2020-02-07T08:02:21.969130Z"
    }
   },
   "outputs": [
    {
     "name": "stdout",
     "output_type": "stream",
     "text": [
      "Pisces\n"
     ]
    }
   ],
   "source": [
    "predict(test)"
   ]
  }
 ],
 "metadata": {
  "kernelspec": {
   "display_name": "Python 3.7.6 64-bit ('tf': conda)",
   "language": "python",
   "name": "python37664bittfconda3476cc33c7584f61b1dde9d1095a5dad"
  },
  "language_info": {
   "codemirror_mode": {
    "name": "ipython",
    "version": 3
   },
   "file_extension": ".py",
   "mimetype": "text/x-python",
   "name": "python",
   "nbconvert_exporter": "python",
   "pygments_lexer": "ipython3",
   "version": "3.7.6"
  },
  "toc": {
   "base_numbering": 1,
   "nav_menu": {},
   "number_sections": true,
   "sideBar": true,
   "skip_h1_title": false,
   "title_cell": "Table of Contents",
   "title_sidebar": "Contents",
   "toc_cell": false,
   "toc_position": {},
   "toc_section_display": true,
   "toc_window_display": false
  }
 },
 "nbformat": 4,
 "nbformat_minor": 4
}
